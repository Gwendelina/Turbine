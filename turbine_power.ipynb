{
 "cells": [
  {
   "cell_type": "markdown",
   "metadata": {},
   "source": [
    "# Baseline data"
   ]
  },
  {
   "cell_type": "markdown",
   "metadata": {},
   "source": [
    "## Import librairies & data"
   ]
  },
  {
   "cell_type": "code",
   "execution_count": 1,
   "metadata": {},
   "outputs": [],
   "source": [
    "import pandas as pd\n",
    "import numpy as np\n",
    "import matplotlib.pyplot as plt\n",
    "import seaborn as sns\n",
    "import statsmodels.api as sm\n",
    "import scipy.stats as stats\n",
    "from sklearn.model_selection import train_test_split\n",
    "from sklearn.model_selection import cross_val_score\n",
    "import statsmodels.api as sm\n",
    "import scipy.stats as stats\n",
    "from sklearn.linear_model import LinearRegression\n",
    "import pylab \n",
    "from statistics import mode\n",
    "from statsmodels.stats.outliers_influence import variance_inflation_factor "
   ]
  },
  {
   "cell_type": "code",
   "execution_count": 2,
   "metadata": {},
   "outputs": [],
   "source": [
    "data = pd.read_csv('haute_borne_data_2017_2020.csv', sep =';')"
   ]
  },
  {
   "cell_type": "code",
   "execution_count": 3,
   "metadata": {
    "scrolled": true
   },
   "outputs": [
    {
     "data": {
      "text/html": [
       "<div>\n",
       "<style scoped>\n",
       "    .dataframe tbody tr th:only-of-type {\n",
       "        vertical-align: middle;\n",
       "    }\n",
       "\n",
       "    .dataframe tbody tr th {\n",
       "        vertical-align: top;\n",
       "    }\n",
       "\n",
       "    .dataframe thead th {\n",
       "        text-align: right;\n",
       "    }\n",
       "</style>\n",
       "<table border=\"1\" class=\"dataframe\">\n",
       "  <thead>\n",
       "    <tr style=\"text-align: right;\">\n",
       "      <th></th>\n",
       "      <th>Wind_turbine_name</th>\n",
       "      <th>Date_time</th>\n",
       "      <th>Ba_avg</th>\n",
       "      <th>Ba_min</th>\n",
       "      <th>Ba_max</th>\n",
       "      <th>Ba_std</th>\n",
       "      <th>Rt_avg</th>\n",
       "      <th>Rt_min</th>\n",
       "      <th>Rt_max</th>\n",
       "      <th>Rt_std</th>\n",
       "      <th>...</th>\n",
       "      <th>Pas_max</th>\n",
       "      <th>Pas_std</th>\n",
       "      <th>Wa_c_avg</th>\n",
       "      <th>Wa_c_min</th>\n",
       "      <th>Wa_c_max</th>\n",
       "      <th>Wa_c_std</th>\n",
       "      <th>Na_c_avg</th>\n",
       "      <th>Na_c_min</th>\n",
       "      <th>Na_c_max</th>\n",
       "      <th>Na_c_std</th>\n",
       "    </tr>\n",
       "  </thead>\n",
       "  <tbody>\n",
       "    <tr>\n",
       "      <th>0</th>\n",
       "      <td>R80721</td>\n",
       "      <td>2017-02-08T08:00:00+01:00</td>\n",
       "      <td>44.990002</td>\n",
       "      <td>44.990002</td>\n",
       "      <td>44.990002</td>\n",
       "      <td>0.0</td>\n",
       "      <td>14.0</td>\n",
       "      <td>14.0</td>\n",
       "      <td>14.0</td>\n",
       "      <td>0.0</td>\n",
       "      <td>...</td>\n",
       "      <td>NaN</td>\n",
       "      <td>NaN</td>\n",
       "      <td>358.04999</td>\n",
       "      <td>NaN</td>\n",
       "      <td>NaN</td>\n",
       "      <td>NaN</td>\n",
       "      <td>358.04999</td>\n",
       "      <td>NaN</td>\n",
       "      <td>NaN</td>\n",
       "      <td>NaN</td>\n",
       "    </tr>\n",
       "    <tr>\n",
       "      <th>1</th>\n",
       "      <td>R80721</td>\n",
       "      <td>2017-01-26T02:40:00+01:00</td>\n",
       "      <td>-1.000000</td>\n",
       "      <td>-1.000000</td>\n",
       "      <td>-1.000000</td>\n",
       "      <td>0.0</td>\n",
       "      <td>10.0</td>\n",
       "      <td>10.0</td>\n",
       "      <td>10.0</td>\n",
       "      <td>0.0</td>\n",
       "      <td>...</td>\n",
       "      <td>NaN</td>\n",
       "      <td>NaN</td>\n",
       "      <td>NaN</td>\n",
       "      <td>NaN</td>\n",
       "      <td>NaN</td>\n",
       "      <td>NaN</td>\n",
       "      <td>NaN</td>\n",
       "      <td>NaN</td>\n",
       "      <td>NaN</td>\n",
       "      <td>NaN</td>\n",
       "    </tr>\n",
       "    <tr>\n",
       "      <th>2</th>\n",
       "      <td>R80721</td>\n",
       "      <td>2017-01-26T13:50:00+01:00</td>\n",
       "      <td>-1.000000</td>\n",
       "      <td>-1.000000</td>\n",
       "      <td>-1.000000</td>\n",
       "      <td>0.0</td>\n",
       "      <td>10.0</td>\n",
       "      <td>10.0</td>\n",
       "      <td>10.0</td>\n",
       "      <td>0.0</td>\n",
       "      <td>...</td>\n",
       "      <td>NaN</td>\n",
       "      <td>NaN</td>\n",
       "      <td>NaN</td>\n",
       "      <td>NaN</td>\n",
       "      <td>NaN</td>\n",
       "      <td>NaN</td>\n",
       "      <td>NaN</td>\n",
       "      <td>NaN</td>\n",
       "      <td>NaN</td>\n",
       "      <td>NaN</td>\n",
       "    </tr>\n",
       "    <tr>\n",
       "      <th>3</th>\n",
       "      <td>R80721</td>\n",
       "      <td>2017-01-26T15:00:00+01:00</td>\n",
       "      <td>-1.000000</td>\n",
       "      <td>-1.000000</td>\n",
       "      <td>-1.000000</td>\n",
       "      <td>0.0</td>\n",
       "      <td>10.0</td>\n",
       "      <td>10.0</td>\n",
       "      <td>10.0</td>\n",
       "      <td>0.0</td>\n",
       "      <td>...</td>\n",
       "      <td>NaN</td>\n",
       "      <td>NaN</td>\n",
       "      <td>NaN</td>\n",
       "      <td>NaN</td>\n",
       "      <td>NaN</td>\n",
       "      <td>NaN</td>\n",
       "      <td>NaN</td>\n",
       "      <td>NaN</td>\n",
       "      <td>NaN</td>\n",
       "      <td>NaN</td>\n",
       "    </tr>\n",
       "    <tr>\n",
       "      <th>4</th>\n",
       "      <td>R80721</td>\n",
       "      <td>2017-02-18T01:10:00+01:00</td>\n",
       "      <td>44.990002</td>\n",
       "      <td>44.990002</td>\n",
       "      <td>44.990002</td>\n",
       "      <td>0.0</td>\n",
       "      <td>17.0</td>\n",
       "      <td>17.0</td>\n",
       "      <td>17.0</td>\n",
       "      <td>0.0</td>\n",
       "      <td>...</td>\n",
       "      <td>NaN</td>\n",
       "      <td>NaN</td>\n",
       "      <td>7.99000</td>\n",
       "      <td>NaN</td>\n",
       "      <td>NaN</td>\n",
       "      <td>NaN</td>\n",
       "      <td>7.99000</td>\n",
       "      <td>NaN</td>\n",
       "      <td>NaN</td>\n",
       "      <td>NaN</td>\n",
       "    </tr>\n",
       "  </tbody>\n",
       "</table>\n",
       "<p>5 rows × 138 columns</p>\n",
       "</div>"
      ],
      "text/plain": [
       "  Wind_turbine_name                  Date_time     Ba_avg     Ba_min  \\\n",
       "0            R80721  2017-02-08T08:00:00+01:00  44.990002  44.990002   \n",
       "1            R80721  2017-01-26T02:40:00+01:00  -1.000000  -1.000000   \n",
       "2            R80721  2017-01-26T13:50:00+01:00  -1.000000  -1.000000   \n",
       "3            R80721  2017-01-26T15:00:00+01:00  -1.000000  -1.000000   \n",
       "4            R80721  2017-02-18T01:10:00+01:00  44.990002  44.990002   \n",
       "\n",
       "      Ba_max  Ba_std  Rt_avg  Rt_min  Rt_max  Rt_std  ...  Pas_max  Pas_std  \\\n",
       "0  44.990002     0.0    14.0    14.0    14.0     0.0  ...      NaN      NaN   \n",
       "1  -1.000000     0.0    10.0    10.0    10.0     0.0  ...      NaN      NaN   \n",
       "2  -1.000000     0.0    10.0    10.0    10.0     0.0  ...      NaN      NaN   \n",
       "3  -1.000000     0.0    10.0    10.0    10.0     0.0  ...      NaN      NaN   \n",
       "4  44.990002     0.0    17.0    17.0    17.0     0.0  ...      NaN      NaN   \n",
       "\n",
       "    Wa_c_avg  Wa_c_min  Wa_c_max  Wa_c_std   Na_c_avg  Na_c_min  Na_c_max  \\\n",
       "0  358.04999       NaN       NaN       NaN  358.04999       NaN       NaN   \n",
       "1        NaN       NaN       NaN       NaN        NaN       NaN       NaN   \n",
       "2        NaN       NaN       NaN       NaN        NaN       NaN       NaN   \n",
       "3        NaN       NaN       NaN       NaN        NaN       NaN       NaN   \n",
       "4    7.99000       NaN       NaN       NaN    7.99000       NaN       NaN   \n",
       "\n",
       "   Na_c_std  \n",
       "0       NaN  \n",
       "1       NaN  \n",
       "2       NaN  \n",
       "3       NaN  \n",
       "4       NaN  \n",
       "\n",
       "[5 rows x 138 columns]"
      ]
     },
     "execution_count": 3,
     "metadata": {},
     "output_type": "execute_result"
    }
   ],
   "source": [
    "data.head()"
   ]
  },
  {
   "cell_type": "code",
   "execution_count": 4,
   "metadata": {},
   "outputs": [
    {
     "data": {
      "text/plain": [
       "(217588, 138)"
      ]
     },
     "execution_count": 4,
     "metadata": {},
     "output_type": "execute_result"
    }
   ],
   "source": [
    "data.shape"
   ]
  },
  {
   "cell_type": "markdown",
   "metadata": {},
   "source": [
    "## Description des variables"
   ]
  },
  {
   "cell_type": "code",
   "execution_count": 5,
   "metadata": {},
   "outputs": [
    {
     "data": {
      "text/html": [
       "<div>\n",
       "<style scoped>\n",
       "    .dataframe tbody tr th:only-of-type {\n",
       "        vertical-align: middle;\n",
       "    }\n",
       "\n",
       "    .dataframe tbody tr th {\n",
       "        vertical-align: top;\n",
       "    }\n",
       "\n",
       "    .dataframe thead th {\n",
       "        text-align: right;\n",
       "    }\n",
       "</style>\n",
       "<table border=\"1\" class=\"dataframe\">\n",
       "  <thead>\n",
       "    <tr style=\"text-align: right;\">\n",
       "      <th></th>\n",
       "      <th>Variable_name</th>\n",
       "      <th>Variable_long_name</th>\n",
       "      <th>Unit_long_name</th>\n",
       "      <th>Comment</th>\n",
       "    </tr>\n",
       "  </thead>\n",
       "  <tbody>\n",
       "    <tr>\n",
       "      <th>0</th>\n",
       "      <td>Q</td>\n",
       "      <td>Reactive_power</td>\n",
       "      <td>kVAr</td>\n",
       "      <td>NaN</td>\n",
       "    </tr>\n",
       "    <tr>\n",
       "      <th>1</th>\n",
       "      <td>Ws</td>\n",
       "      <td>Wind_speed</td>\n",
       "      <td>m/s</td>\n",
       "      <td>Average wind speed</td>\n",
       "    </tr>\n",
       "    <tr>\n",
       "      <th>2</th>\n",
       "      <td>Va2</td>\n",
       "      <td>Vane_position_2</td>\n",
       "      <td>deg</td>\n",
       "      <td>Second wind vane on the nacelle</td>\n",
       "    </tr>\n",
       "    <tr>\n",
       "      <th>3</th>\n",
       "      <td>Git</td>\n",
       "      <td>Gearbox_inlet_temperature</td>\n",
       "      <td>deg_C</td>\n",
       "      <td>NaN</td>\n",
       "    </tr>\n",
       "    <tr>\n",
       "      <th>4</th>\n",
       "      <td>Ot</td>\n",
       "      <td>Outdoor_temperature</td>\n",
       "      <td>deg_C</td>\n",
       "      <td>NaN</td>\n",
       "    </tr>\n",
       "    <tr>\n",
       "      <th>5</th>\n",
       "      <td>Ws2</td>\n",
       "      <td>Wind_speed_2</td>\n",
       "      <td>m/s</td>\n",
       "      <td>Second anemometer on the nacelle</td>\n",
       "    </tr>\n",
       "    <tr>\n",
       "      <th>6</th>\n",
       "      <td>Nf</td>\n",
       "      <td>Grid_frequency</td>\n",
       "      <td>Hz</td>\n",
       "      <td>NaN</td>\n",
       "    </tr>\n",
       "    <tr>\n",
       "      <th>7</th>\n",
       "      <td>Nu</td>\n",
       "      <td>Grid_voltage</td>\n",
       "      <td>V</td>\n",
       "      <td>NaN</td>\n",
       "    </tr>\n",
       "    <tr>\n",
       "      <th>8</th>\n",
       "      <td>Dst</td>\n",
       "      <td>Generator_stator_temperature</td>\n",
       "      <td>deg_C</td>\n",
       "      <td>NaN</td>\n",
       "    </tr>\n",
       "    <tr>\n",
       "      <th>9</th>\n",
       "      <td>Wa_c</td>\n",
       "      <td>Absolute_wind_direction_corrected</td>\n",
       "      <td>deg</td>\n",
       "      <td>NaN</td>\n",
       "    </tr>\n",
       "    <tr>\n",
       "      <th>10</th>\n",
       "      <td>DCs</td>\n",
       "      <td>Generator_converter_speed</td>\n",
       "      <td>rpm</td>\n",
       "      <td>NaN</td>\n",
       "    </tr>\n",
       "    <tr>\n",
       "      <th>11</th>\n",
       "      <td>Yt</td>\n",
       "      <td>Nacelle_temperature</td>\n",
       "      <td>deg_C</td>\n",
       "      <td>NaN</td>\n",
       "    </tr>\n",
       "    <tr>\n",
       "      <th>12</th>\n",
       "      <td>Na_c</td>\n",
       "      <td>Nacelle_angle_corrected</td>\n",
       "      <td>deg</td>\n",
       "      <td>NaN</td>\n",
       "    </tr>\n",
       "    <tr>\n",
       "      <th>13</th>\n",
       "      <td>Ya</td>\n",
       "      <td>Nacelle_angle</td>\n",
       "      <td>deg</td>\n",
       "      <td>NaN</td>\n",
       "    </tr>\n",
       "    <tr>\n",
       "      <th>14</th>\n",
       "      <td>Rm</td>\n",
       "      <td>Torque</td>\n",
       "      <td>Nm</td>\n",
       "      <td>NaN</td>\n",
       "    </tr>\n",
       "    <tr>\n",
       "      <th>15</th>\n",
       "      <td>Gost</td>\n",
       "      <td>Gearbox_oil_sump_temperature</td>\n",
       "      <td>deg_C</td>\n",
       "      <td>NaN</td>\n",
       "    </tr>\n",
       "    <tr>\n",
       "      <th>16</th>\n",
       "      <td>Rs</td>\n",
       "      <td>Rotor_speed</td>\n",
       "      <td>rpm</td>\n",
       "      <td>NaN</td>\n",
       "    </tr>\n",
       "    <tr>\n",
       "      <th>17</th>\n",
       "      <td>Gb2t</td>\n",
       "      <td>Gearbox_bearing_2_temperature</td>\n",
       "      <td>deg_C</td>\n",
       "      <td>NaN</td>\n",
       "    </tr>\n",
       "    <tr>\n",
       "      <th>18</th>\n",
       "      <td>Wa</td>\n",
       "      <td>Absolute_wind_direction</td>\n",
       "      <td>deg</td>\n",
       "      <td>NaN</td>\n",
       "    </tr>\n",
       "    <tr>\n",
       "      <th>19</th>\n",
       "      <td>Ba</td>\n",
       "      <td>Pitch_angle</td>\n",
       "      <td>deg</td>\n",
       "      <td>NaN</td>\n",
       "    </tr>\n",
       "    <tr>\n",
       "      <th>20</th>\n",
       "      <td>Ds</td>\n",
       "      <td>Generator_speed</td>\n",
       "      <td>rpm</td>\n",
       "      <td>NaN</td>\n",
       "    </tr>\n",
       "    <tr>\n",
       "      <th>21</th>\n",
       "      <td>Va</td>\n",
       "      <td>Vane_position</td>\n",
       "      <td>deg</td>\n",
       "      <td>NaN</td>\n",
       "    </tr>\n",
       "    <tr>\n",
       "      <th>22</th>\n",
       "      <td>Db2t</td>\n",
       "      <td>Generator_bearing_2_temperature</td>\n",
       "      <td>deg_C</td>\n",
       "      <td>NaN</td>\n",
       "    </tr>\n",
       "    <tr>\n",
       "      <th>23</th>\n",
       "      <td>Cm</td>\n",
       "      <td>Converter_torque</td>\n",
       "      <td>Nm</td>\n",
       "      <td>NaN</td>\n",
       "    </tr>\n",
       "    <tr>\n",
       "      <th>24</th>\n",
       "      <td>Rt</td>\n",
       "      <td>Hub_temperature</td>\n",
       "      <td>deg_C</td>\n",
       "      <td>NaN</td>\n",
       "    </tr>\n",
       "    <tr>\n",
       "      <th>25</th>\n",
       "      <td>Ws1</td>\n",
       "      <td>Wind_speed_1</td>\n",
       "      <td>m/s</td>\n",
       "      <td>First anemometer on the nacelle</td>\n",
       "    </tr>\n",
       "    <tr>\n",
       "      <th>26</th>\n",
       "      <td>S</td>\n",
       "      <td>Apparent_power</td>\n",
       "      <td>kVA</td>\n",
       "      <td>Should be the square root of the sum of P squa...</td>\n",
       "    </tr>\n",
       "    <tr>\n",
       "      <th>27</th>\n",
       "      <td>P</td>\n",
       "      <td>Active_power</td>\n",
       "      <td>kW</td>\n",
       "      <td>NaN</td>\n",
       "    </tr>\n",
       "    <tr>\n",
       "      <th>28</th>\n",
       "      <td>Cosphi</td>\n",
       "      <td>Power_factor</td>\n",
       "      <td>NaN</td>\n",
       "      <td>Should equal P/S</td>\n",
       "    </tr>\n",
       "    <tr>\n",
       "      <th>29</th>\n",
       "      <td>Gb1t</td>\n",
       "      <td>Gearbox_bearing_1_temperature</td>\n",
       "      <td>deg_C</td>\n",
       "      <td>NaN</td>\n",
       "    </tr>\n",
       "    <tr>\n",
       "      <th>30</th>\n",
       "      <td>Db1t</td>\n",
       "      <td>Generator_bearing_1_temperature</td>\n",
       "      <td>deg_C</td>\n",
       "      <td>NaN</td>\n",
       "    </tr>\n",
       "    <tr>\n",
       "      <th>31</th>\n",
       "      <td>Va1</td>\n",
       "      <td>Vane_position_1</td>\n",
       "      <td>deg</td>\n",
       "      <td>First wind vane on the nacelle</td>\n",
       "    </tr>\n",
       "    <tr>\n",
       "      <th>32</th>\n",
       "      <td>Pas</td>\n",
       "      <td>Pitch_angle_setpoint</td>\n",
       "      <td>NaN</td>\n",
       "      <td>NaN</td>\n",
       "    </tr>\n",
       "    <tr>\n",
       "      <th>33</th>\n",
       "      <td>Rbt</td>\n",
       "      <td>Rotor_bearing_temperature</td>\n",
       "      <td>deg_C</td>\n",
       "      <td>NaN</td>\n",
       "    </tr>\n",
       "  </tbody>\n",
       "</table>\n",
       "</div>"
      ],
      "text/plain": [
       "   Variable_name                 Variable_long_name Unit_long_name  \\\n",
       "0              Q                     Reactive_power           kVAr   \n",
       "1             Ws                         Wind_speed            m/s   \n",
       "2            Va2                    Vane_position_2            deg   \n",
       "3            Git          Gearbox_inlet_temperature          deg_C   \n",
       "4             Ot                Outdoor_temperature          deg_C   \n",
       "5            Ws2                       Wind_speed_2            m/s   \n",
       "6             Nf                     Grid_frequency             Hz   \n",
       "7             Nu                       Grid_voltage              V   \n",
       "8            Dst       Generator_stator_temperature          deg_C   \n",
       "9           Wa_c  Absolute_wind_direction_corrected            deg   \n",
       "10           DCs          Generator_converter_speed            rpm   \n",
       "11            Yt                Nacelle_temperature          deg_C   \n",
       "12          Na_c            Nacelle_angle_corrected            deg   \n",
       "13            Ya                      Nacelle_angle            deg   \n",
       "14            Rm                             Torque             Nm   \n",
       "15          Gost       Gearbox_oil_sump_temperature          deg_C   \n",
       "16            Rs                        Rotor_speed            rpm   \n",
       "17          Gb2t      Gearbox_bearing_2_temperature          deg_C   \n",
       "18            Wa            Absolute_wind_direction            deg   \n",
       "19            Ba                        Pitch_angle            deg   \n",
       "20            Ds                    Generator_speed            rpm   \n",
       "21            Va                      Vane_position            deg   \n",
       "22          Db2t    Generator_bearing_2_temperature          deg_C   \n",
       "23            Cm                   Converter_torque             Nm   \n",
       "24            Rt                    Hub_temperature          deg_C   \n",
       "25           Ws1                       Wind_speed_1            m/s   \n",
       "26             S                     Apparent_power            kVA   \n",
       "27             P                       Active_power             kW   \n",
       "28        Cosphi                       Power_factor            NaN   \n",
       "29          Gb1t      Gearbox_bearing_1_temperature          deg_C   \n",
       "30          Db1t    Generator_bearing_1_temperature          deg_C   \n",
       "31           Va1                    Vane_position_1            deg   \n",
       "32           Pas               Pitch_angle_setpoint            NaN   \n",
       "33           Rbt          Rotor_bearing_temperature          deg_C   \n",
       "\n",
       "                                              Comment  \n",
       "0                                                 NaN  \n",
       "1                                  Average wind speed  \n",
       "2                     Second wind vane on the nacelle  \n",
       "3                                                 NaN  \n",
       "4                                                 NaN  \n",
       "5                    Second anemometer on the nacelle  \n",
       "6                                                 NaN  \n",
       "7                                                 NaN  \n",
       "8                                                 NaN  \n",
       "9                                                 NaN  \n",
       "10                                                NaN  \n",
       "11                                                NaN  \n",
       "12                                                NaN  \n",
       "13                                                NaN  \n",
       "14                                                NaN  \n",
       "15                                                NaN  \n",
       "16                                                NaN  \n",
       "17                                                NaN  \n",
       "18                                                NaN  \n",
       "19                                                NaN  \n",
       "20                                                NaN  \n",
       "21                                                NaN  \n",
       "22                                                NaN  \n",
       "23                                                NaN  \n",
       "24                                                NaN  \n",
       "25                    First anemometer on the nacelle  \n",
       "26  Should be the square root of the sum of P squa...  \n",
       "27                                                NaN  \n",
       "28                                   Should equal P/S  \n",
       "29                                                NaN  \n",
       "30                                                NaN  \n",
       "31                     First wind vane on the nacelle  \n",
       "32                                                NaN  \n",
       "33                                                NaN  "
      ]
     },
     "execution_count": 5,
     "metadata": {},
     "output_type": "execute_result"
    }
   ],
   "source": [
    "description = pd.read_csv('data_description_turbine.csv', sep =';')\n",
    "description"
   ]
  },
  {
   "cell_type": "markdown",
   "metadata": {},
   "source": [
    "## Nettoyage rapide des valeurs nulles"
   ]
  },
  {
   "cell_type": "code",
   "execution_count": 6,
   "metadata": {},
   "outputs": [],
   "source": [
    "df = data.copy()"
   ]
  },
  {
   "cell_type": "code",
   "execution_count": 7,
   "metadata": {},
   "outputs": [
    {
     "data": {
      "image/png": "[encoded data removed]",
      "text/plain": [
       "<Figure size 1224x504 with 1 Axes>"
      ]
     },
     "metadata": {
      "needs_background": "light"
     },
     "output_type": "display_data"
    }
   ],
   "source": [
    "def show_map_missing_values(df):\n",
    "    plt.figure(figsize=(17,7))\n",
    "    heatmap = sns.heatmap(df.isna(), cbar=False, cmap=\"Blues\")\n",
    "    heatmap.set_title('Heatmap of missing values in the dataframe',\n",
    "    fontdict={'fontsize':18}, pad=16);\n",
    "    \n",
    "show_map_missing_values(df)"
   ]
  },
  {
   "cell_type": "markdown",
   "metadata": {},
   "source": [
    "=> suppression des colonnes nulles et des lignes dont les valeurs sont manquantes"
   ]
  },
  {
   "cell_type": "code",
   "execution_count": 8,
   "metadata": {},
   "outputs": [
    {
     "data": {
      "text/plain": [
       "Na_c_std     True\n",
       "Wa_c_min     True\n",
       "Na_c_max     True\n",
       "Pas_min      True\n",
       "Pas_max      True\n",
       "Pas_std      True\n",
       "Pas_avg      True\n",
       "Wa_c_max     True\n",
       "Wa_c_std     True\n",
       "Na_c_min     True\n",
       "Wa_c_avg     True\n",
       "Na_c_avg     True\n",
       "Va_avg      False\n",
       "Va_min      False\n",
       "Va_max      False\n",
       "dtype: bool"
      ]
     },
     "execution_count": 8,
     "metadata": {},
     "output_type": "execute_result"
    }
   ],
   "source": [
    "# Visualisation des colonnes ayant plus de 80% de valeurs nulles \n",
    "\n",
    "df.isnull().sum().sort_values(ascending=False).head(15)*100/len(df) >= 80"
   ]
  },
  {
   "cell_type": "code",
   "execution_count": 9,
   "metadata": {},
   "outputs": [],
   "source": [
    "# Drop les colonnes concernées par les valeurs nulles à 80% et un peu plus\n",
    "\n",
    "df = df.drop(columns=['Na_c_std','Wa_c_min', 'Na_c_max', 'Pas_min', 'Pas_max', 'Pas_std', 'Pas_avg', 'Wa_c_max', 'Wa_c_std', 'Na_c_min', 'Wa_c_avg', 'Na_c_avg', 'Va_avg', 'Va_max', 'Va_min', 'Va_std'])"
   ]
  },
  {
   "cell_type": "code",
   "execution_count": 10,
   "metadata": {},
   "outputs": [
    {
     "data": {
      "image/png": "[encoded data removed]",
      "text/plain": [
       "<Figure size 1224x504 with 1 Axes>"
      ]
     },
     "metadata": {
      "needs_background": "light"
     },
     "output_type": "display_data"
    }
   ],
   "source": [
    "def show_map_missing_values(df):\n",
    "    plt.figure(figsize=(17,7))\n",
    "    heatmap = sns.heatmap(df.isna(), cbar=False, cmap=\"Blues\")\n",
    "    heatmap.set_title('Heatmap of missing values in the dataframe',\n",
    "    fontdict={'fontsize':18}, pad=16);\n",
    "    \n",
    "show_map_missing_values(df)"
   ]
  },
  {
   "cell_type": "code",
   "execution_count": 11,
   "metadata": {},
   "outputs": [
    {
     "data": {
      "text/plain": [
       "(217588, 122)"
      ]
     },
     "execution_count": 11,
     "metadata": {},
     "output_type": "execute_result"
    }
   ],
   "source": [
    "df.shape"
   ]
  },
  {
   "cell_type": "code",
   "execution_count": 12,
   "metadata": {},
   "outputs": [],
   "source": [
    "# Suppression des lignes nulles\n",
    "\n",
    "df = df.dropna()"
   ]
  },
  {
   "cell_type": "code",
   "execution_count": 13,
   "metadata": {},
   "outputs": [
    {
     "data": {
      "text/plain": [
       "(133503, 122)"
      ]
     },
     "execution_count": 13,
     "metadata": {},
     "output_type": "execute_result"
    }
   ],
   "source": [
    "df.shape"
   ]
  },
  {
   "cell_type": "markdown",
   "metadata": {},
   "source": [
    "## Features selection & split"
   ]
  },
  {
   "cell_type": "code",
   "execution_count": 14,
   "metadata": {},
   "outputs": [],
   "source": [
    "# On prend toutes les variables sauf les colonnes avec des valeurs nulles et les 2 variables catégorielles\n",
    "# Notre dataset n'est plus constitué que de m = 130 000\n",
    "\n",
    "X = df.drop(columns = ['P_avg', 'Wind_turbine_name', 'Date_time'], axis=1)\n",
    "y = df['P_avg']"
   ]
  },
  {
   "cell_type": "code",
   "execution_count": 15,
   "metadata": {},
   "outputs": [
    {
     "name": "stdout",
     "output_type": "stream",
     "text": [
      "Train set : (106802, 119)\n",
      "Test set : (26701, 119)\n"
     ]
    }
   ],
   "source": [
    "# Split la donnée\n",
    "\n",
    "X_train, X_test, y_train, y_test = train_test_split(\n",
    "        X, y, test_size=0.20, random_state=5)\n",
    "\n",
    "print('Train set :', X_train.shape)\n",
    "print('Test set :', X_test.shape)"
   ]
  },
  {
   "cell_type": "markdown",
   "metadata": {},
   "source": [
    "## Régression linéaire avec toutes les variables"
   ]
  },
  {
   "cell_type": "markdown",
   "metadata": {},
   "source": [
    "### Entrainement du modèle"
   ]
  },
  {
   "cell_type": "code",
   "execution_count": 16,
   "metadata": {},
   "outputs": [
    {
     "data": {
      "text/html": [
       "<table class=\"simpletable\">\n",
       "<caption>OLS Regression Results</caption>\n",
       "<tr>\n",
       "  <th>Dep. Variable:</th>          <td>P_avg</td>      <th>  R-squared:         </th>  <td>   1.000</td>  \n",
       "</tr>\n",
       "<tr>\n",
       "  <th>Model:</th>                   <td>OLS</td>       <th>  Adj. R-squared:    </th>  <td>   1.000</td>  \n",
       "</tr>\n",
       "<tr>\n",
       "  <th>Method:</th>             <td>Least Squares</td>  <th>  F-statistic:       </th>  <td>8.292e+07</td> \n",
       "</tr>\n",
       "<tr>\n",
       "  <th>Date:</th>             <td>Tue, 22 Jun 2021</td> <th>  Prob (F-statistic):</th>   <td>  0.00</td>   \n",
       "</tr>\n",
       "<tr>\n",
       "  <th>Time:</th>                 <td>16:32:39</td>     <th>  Log-Likelihood:    </th> <td>-1.9583e+05</td>\n",
       "</tr>\n",
       "<tr>\n",
       "  <th>No. Observations:</th>      <td>106802</td>      <th>  AIC:               </th>  <td>3.919e+05</td> \n",
       "</tr>\n",
       "<tr>\n",
       "  <th>Df Residuals:</th>          <td>106686</td>      <th>  BIC:               </th>  <td>3.930e+05</td> \n",
       "</tr>\n",
       "<tr>\n",
       "  <th>Df Model:</th>              <td>   115</td>      <th>                     </th>      <td> </td>     \n",
       "</tr>\n",
       "<tr>\n",
       "  <th>Covariance Type:</th>      <td>nonrobust</td>    <th>                     </th>      <td> </td>     \n",
       "</tr>\n",
       "</table>\n",
       "<table class=\"simpletable\">\n",
       "<tr>\n",
       "       <td></td>         <th>coef</th>     <th>std err</th>      <th>t</th>      <th>P>|t|</th>  <th>[0.025</th>    <th>0.975]</th>  \n",
       "</tr>\n",
       "<tr>\n",
       "  <th>const</th>      <td>  -35.0179</td> <td>    0.496</td> <td>  -70.622</td> <td> 0.000</td> <td>  -35.990</td> <td>  -34.046</td>\n",
       "</tr>\n",
       "<tr>\n",
       "  <th>Ba_avg</th>     <td>    0.2124</td> <td>    0.003</td> <td>   64.752</td> <td> 0.000</td> <td>    0.206</td> <td>    0.219</td>\n",
       "</tr>\n",
       "<tr>\n",
       "  <th>Ba_min</th>     <td>   -0.1398</td> <td>    0.003</td> <td>  -44.463</td> <td> 0.000</td> <td>   -0.146</td> <td>   -0.134</td>\n",
       "</tr>\n",
       "<tr>\n",
       "  <th>Ba_max</th>     <td>   -0.0738</td> <td>    0.003</td> <td>  -23.548</td> <td> 0.000</td> <td>   -0.080</td> <td>   -0.068</td>\n",
       "</tr>\n",
       "<tr>\n",
       "  <th>Ba_std</th>     <td>   -0.1133</td> <td>    0.008</td> <td>  -13.538</td> <td> 0.000</td> <td>   -0.130</td> <td>   -0.097</td>\n",
       "</tr>\n",
       "<tr>\n",
       "  <th>Rt_avg</th>     <td>   -0.0831</td> <td>    0.017</td> <td>   -4.950</td> <td> 0.000</td> <td>   -0.116</td> <td>   -0.050</td>\n",
       "</tr>\n",
       "<tr>\n",
       "  <th>Rt_min</th>     <td>    0.0338</td> <td>    0.014</td> <td>    2.361</td> <td> 0.018</td> <td>    0.006</td> <td>    0.062</td>\n",
       "</tr>\n",
       "<tr>\n",
       "  <th>Rt_max</th>     <td>    0.0572</td> <td>    0.021</td> <td>    2.740</td> <td> 0.006</td> <td>    0.016</td> <td>    0.098</td>\n",
       "</tr>\n",
       "<tr>\n",
       "  <th>Rt_std</th>     <td>   -0.0181</td> <td>    0.058</td> <td>   -0.312</td> <td> 0.755</td> <td>   -0.132</td> <td>    0.096</td>\n",
       "</tr>\n",
       "<tr>\n",
       "  <th>DCs_avg</th>    <td>   -0.0077</td> <td>    0.004</td> <td>   -1.792</td> <td> 0.073</td> <td>   -0.016</td> <td>    0.001</td>\n",
       "</tr>\n",
       "<tr>\n",
       "  <th>DCs_min</th>    <td>   -0.0151</td> <td>    0.004</td> <td>   -4.043</td> <td> 0.000</td> <td>   -0.022</td> <td>   -0.008</td>\n",
       "</tr>\n",
       "<tr>\n",
       "  <th>DCs_max</th>    <td>    0.0187</td> <td>    0.004</td> <td>    5.103</td> <td> 0.000</td> <td>    0.012</td> <td>    0.026</td>\n",
       "</tr>\n",
       "<tr>\n",
       "  <th>DCs_std</th>    <td>   -0.0785</td> <td>    0.008</td> <td>  -10.349</td> <td> 0.000</td> <td>   -0.093</td> <td>   -0.064</td>\n",
       "</tr>\n",
       "<tr>\n",
       "  <th>Cm_avg</th>     <td>    0.0047</td> <td>    0.000</td> <td>   26.791</td> <td> 0.000</td> <td>    0.004</td> <td>    0.005</td>\n",
       "</tr>\n",
       "<tr>\n",
       "  <th>Cm_min</th>     <td>   -0.0061</td> <td>    0.000</td> <td>  -57.226</td> <td> 0.000</td> <td>   -0.006</td> <td>   -0.006</td>\n",
       "</tr>\n",
       "<tr>\n",
       "  <th>Cm_max</th>     <td>    0.0005</td> <td>    0.000</td> <td>    2.707</td> <td> 0.007</td> <td>    0.000</td> <td>    0.001</td>\n",
       "</tr>\n",
       "<tr>\n",
       "  <th>Cm_std</th>     <td>   -0.0038</td> <td>    0.000</td> <td>   -9.508</td> <td> 0.000</td> <td>   -0.005</td> <td>   -0.003</td>\n",
       "</tr>\n",
       "<tr>\n",
       "  <th>P_min</th>      <td>    0.1338</td> <td>    0.001</td> <td>   93.961</td> <td> 0.000</td> <td>    0.131</td> <td>    0.137</td>\n",
       "</tr>\n",
       "<tr>\n",
       "  <th>P_max</th>      <td>    0.2138</td> <td>    0.002</td> <td>  121.449</td> <td> 0.000</td> <td>    0.210</td> <td>    0.217</td>\n",
       "</tr>\n",
       "<tr>\n",
       "  <th>P_std</th>      <td>   -0.4975</td> <td>    0.005</td> <td>  -94.946</td> <td> 0.000</td> <td>   -0.508</td> <td>   -0.487</td>\n",
       "</tr>\n",
       "<tr>\n",
       "  <th>Q_avg</th>      <td>   -0.1052</td> <td>    0.001</td> <td>  -82.900</td> <td> 0.000</td> <td>   -0.108</td> <td>   -0.103</td>\n",
       "</tr>\n",
       "<tr>\n",
       "  <th>Q_min</th>      <td>    0.0171</td> <td>    0.001</td> <td>   14.974</td> <td> 0.000</td> <td>    0.015</td> <td>    0.019</td>\n",
       "</tr>\n",
       "<tr>\n",
       "  <th>Q_max</th>      <td>    0.0478</td> <td>    0.001</td> <td>   52.785</td> <td> 0.000</td> <td>    0.046</td> <td>    0.050</td>\n",
       "</tr>\n",
       "<tr>\n",
       "  <th>Q_std</th>      <td>   -0.2001</td> <td>    0.003</td> <td>  -58.808</td> <td> 0.000</td> <td>   -0.207</td> <td>   -0.193</td>\n",
       "</tr>\n",
       "<tr>\n",
       "  <th>S_avg</th>      <td>    0.9252</td> <td>    0.001</td> <td> 1730.244</td> <td> 0.000</td> <td>    0.924</td> <td>    0.926</td>\n",
       "</tr>\n",
       "<tr>\n",
       "  <th>S_min</th>      <td>   -0.1021</td> <td>    0.001</td> <td>  -81.629</td> <td> 0.000</td> <td>   -0.105</td> <td>   -0.100</td>\n",
       "</tr>\n",
       "<tr>\n",
       "  <th>S_max</th>      <td>   -0.1870</td> <td>    0.002</td> <td> -113.520</td> <td> 0.000</td> <td>   -0.190</td> <td>   -0.184</td>\n",
       "</tr>\n",
       "<tr>\n",
       "  <th>S_std</th>      <td>    0.4771</td> <td>    0.005</td> <td>   98.736</td> <td> 0.000</td> <td>    0.468</td> <td>    0.487</td>\n",
       "</tr>\n",
       "<tr>\n",
       "  <th>Cosphi_avg</th> <td>   34.4477</td> <td>    0.212</td> <td>  162.791</td> <td> 0.000</td> <td>   34.033</td> <td>   34.862</td>\n",
       "</tr>\n",
       "<tr>\n",
       "  <th>Cosphi_min</th> <td>    0.0036</td> <td>    0.009</td> <td>    0.411</td> <td> 0.681</td> <td>   -0.014</td> <td>    0.021</td>\n",
       "</tr>\n",
       "<tr>\n",
       "  <th>Cosphi_max</th> <td>    0.6769</td> <td>    0.095</td> <td>    7.152</td> <td> 0.000</td> <td>    0.491</td> <td>    0.862</td>\n",
       "</tr>\n",
       "<tr>\n",
       "  <th>Cosphi_std</th> <td>  -32.5327</td> <td>    0.426</td> <td>  -76.403</td> <td> 0.000</td> <td>  -33.367</td> <td>  -31.698</td>\n",
       "</tr>\n",
       "<tr>\n",
       "  <th>Ds_avg</th>     <td>   -0.1337</td> <td>    0.008</td> <td>  -16.892</td> <td> 0.000</td> <td>   -0.149</td> <td>   -0.118</td>\n",
       "</tr>\n",
       "<tr>\n",
       "  <th>Ds_min</th>     <td>    0.0122</td> <td>    0.004</td> <td>    2.857</td> <td> 0.004</td> <td>    0.004</td> <td>    0.021</td>\n",
       "</tr>\n",
       "<tr>\n",
       "  <th>Ds_max</th>     <td>   -0.0201</td> <td>    0.004</td> <td>   -4.742</td> <td> 0.000</td> <td>   -0.028</td> <td>   -0.012</td>\n",
       "</tr>\n",
       "<tr>\n",
       "  <th>Ds_std</th>     <td>    0.1409</td> <td>    0.010</td> <td>   13.752</td> <td> 0.000</td> <td>    0.121</td> <td>    0.161</td>\n",
       "</tr>\n",
       "<tr>\n",
       "  <th>Db1t_avg</th>   <td>   -0.1906</td> <td>    0.061</td> <td>   -3.130</td> <td> 0.002</td> <td>   -0.310</td> <td>   -0.071</td>\n",
       "</tr>\n",
       "<tr>\n",
       "  <th>Db1t_min</th>   <td>    0.2155</td> <td>    0.048</td> <td>    4.474</td> <td> 0.000</td> <td>    0.121</td> <td>    0.310</td>\n",
       "</tr>\n",
       "<tr>\n",
       "  <th>Db1t_max</th>   <td>   -0.0171</td> <td>    0.047</td> <td>   -0.367</td> <td> 0.714</td> <td>   -0.108</td> <td>    0.074</td>\n",
       "</tr>\n",
       "<tr>\n",
       "  <th>Db1t_std</th>   <td>    0.7942</td> <td>    0.127</td> <td>    6.248</td> <td> 0.000</td> <td>    0.545</td> <td>    1.043</td>\n",
       "</tr>\n",
       "<tr>\n",
       "  <th>Db2t_avg</th>   <td>    0.7147</td> <td>    0.089</td> <td>    8.053</td> <td> 0.000</td> <td>    0.541</td> <td>    0.889</td>\n",
       "</tr>\n",
       "<tr>\n",
       "  <th>Db2t_min</th>   <td>   -0.2329</td> <td>    0.073</td> <td>   -3.208</td> <td> 0.001</td> <td>   -0.375</td> <td>   -0.091</td>\n",
       "</tr>\n",
       "<tr>\n",
       "  <th>Db2t_max</th>   <td>   -0.4827</td> <td>    0.071</td> <td>   -6.800</td> <td> 0.000</td> <td>   -0.622</td> <td>   -0.344</td>\n",
       "</tr>\n",
       "<tr>\n",
       "  <th>Db2t_std</th>   <td>    0.1128</td> <td>    0.189</td> <td>    0.598</td> <td> 0.550</td> <td>   -0.257</td> <td>    0.482</td>\n",
       "</tr>\n",
       "<tr>\n",
       "  <th>Dst_avg</th>    <td>    0.1159</td> <td>    0.030</td> <td>    3.809</td> <td> 0.000</td> <td>    0.056</td> <td>    0.176</td>\n",
       "</tr>\n",
       "<tr>\n",
       "  <th>Dst_min</th>    <td>   -0.0070</td> <td>    0.022</td> <td>   -0.320</td> <td> 0.749</td> <td>   -0.050</td> <td>    0.036</td>\n",
       "</tr>\n",
       "<tr>\n",
       "  <th>Dst_max</th>    <td>   -0.1230</td> <td>    0.020</td> <td>   -6.146</td> <td> 0.000</td> <td>   -0.162</td> <td>   -0.084</td>\n",
       "</tr>\n",
       "<tr>\n",
       "  <th>Dst_std</th>    <td>   -0.0060</td> <td>    0.063</td> <td>   -0.095</td> <td> 0.924</td> <td>   -0.130</td> <td>    0.118</td>\n",
       "</tr>\n",
       "<tr>\n",
       "  <th>Gb1t_avg</th>   <td>   -0.2665</td> <td>    0.039</td> <td>   -6.901</td> <td> 0.000</td> <td>   -0.342</td> <td>   -0.191</td>\n",
       "</tr>\n",
       "<tr>\n",
       "  <th>Gb1t_min</th>   <td>    0.0813</td> <td>    0.032</td> <td>    2.553</td> <td> 0.011</td> <td>    0.019</td> <td>    0.144</td>\n",
       "</tr>\n",
       "<tr>\n",
       "  <th>Gb1t_max</th>   <td>    0.1688</td> <td>    0.034</td> <td>    4.994</td> <td> 0.000</td> <td>    0.103</td> <td>    0.235</td>\n",
       "</tr>\n",
       "<tr>\n",
       "  <th>Gb1t_std</th>   <td>    0.7899</td> <td>    0.086</td> <td>    9.176</td> <td> 0.000</td> <td>    0.621</td> <td>    0.959</td>\n",
       "</tr>\n",
       "<tr>\n",
       "  <th>Gb2t_avg</th>   <td>    0.4000</td> <td>    0.036</td> <td>   10.981</td> <td> 0.000</td> <td>    0.329</td> <td>    0.471</td>\n",
       "</tr>\n",
       "<tr>\n",
       "  <th>Gb2t_min</th>   <td>   -0.0360</td> <td>    0.033</td> <td>   -1.092</td> <td> 0.275</td> <td>   -0.101</td> <td>    0.029</td>\n",
       "</tr>\n",
       "<tr>\n",
       "  <th>Gb2t_max</th>   <td>   -0.1609</td> <td>    0.034</td> <td>   -4.666</td> <td> 0.000</td> <td>   -0.229</td> <td>   -0.093</td>\n",
       "</tr>\n",
       "<tr>\n",
       "  <th>Gb2t_std</th>   <td>   -0.4117</td> <td>    0.088</td> <td>   -4.681</td> <td> 0.000</td> <td>   -0.584</td> <td>   -0.239</td>\n",
       "</tr>\n",
       "<tr>\n",
       "  <th>Git_avg</th>    <td>    0.0467</td> <td>    0.012</td> <td>    3.932</td> <td> 0.000</td> <td>    0.023</td> <td>    0.070</td>\n",
       "</tr>\n",
       "<tr>\n",
       "  <th>Git_min</th>    <td>    0.0404</td> <td>    0.012</td> <td>    3.505</td> <td> 0.000</td> <td>    0.018</td> <td>    0.063</td>\n",
       "</tr>\n",
       "<tr>\n",
       "  <th>Git_max</th>    <td>   -0.0812</td> <td>    0.013</td> <td>   -6.111</td> <td> 0.000</td> <td>   -0.107</td> <td>   -0.055</td>\n",
       "</tr>\n",
       "<tr>\n",
       "  <th>Git_std</th>    <td>    0.0847</td> <td>    0.030</td> <td>    2.846</td> <td> 0.004</td> <td>    0.026</td> <td>    0.143</td>\n",
       "</tr>\n",
       "<tr>\n",
       "  <th>Gost_avg</th>   <td>   -0.1730</td> <td>    0.055</td> <td>   -3.123</td> <td> 0.002</td> <td>   -0.282</td> <td>   -0.064</td>\n",
       "</tr>\n",
       "<tr>\n",
       "  <th>Gost_min</th>   <td>   -0.2161</td> <td>    0.040</td> <td>   -5.461</td> <td> 0.000</td> <td>   -0.294</td> <td>   -0.139</td>\n",
       "</tr>\n",
       "<tr>\n",
       "  <th>Gost_max</th>   <td>    0.2074</td> <td>    0.043</td> <td>    4.808</td> <td> 0.000</td> <td>    0.123</td> <td>    0.292</td>\n",
       "</tr>\n",
       "<tr>\n",
       "  <th>Gost_std</th>   <td>   -1.5167</td> <td>    0.115</td> <td>  -13.155</td> <td> 0.000</td> <td>   -1.743</td> <td>   -1.291</td>\n",
       "</tr>\n",
       "<tr>\n",
       "  <th>Ya_avg</th>     <td>   -0.0016</td> <td>    0.000</td> <td>   -4.474</td> <td> 0.000</td> <td>   -0.002</td> <td>   -0.001</td>\n",
       "</tr>\n",
       "<tr>\n",
       "  <th>Ya_min</th>     <td>    0.0004</td> <td>    0.000</td> <td>    1.540</td> <td> 0.123</td> <td>   -0.000</td> <td>    0.001</td>\n",
       "</tr>\n",
       "<tr>\n",
       "  <th>Ya_max</th>     <td>    0.0014</td> <td>    0.000</td> <td>    5.150</td> <td> 0.000</td> <td>    0.001</td> <td>    0.002</td>\n",
       "</tr>\n",
       "<tr>\n",
       "  <th>Ya_std</th>     <td>    0.0025</td> <td>    0.001</td> <td>    1.750</td> <td> 0.080</td> <td>   -0.000</td> <td>    0.005</td>\n",
       "</tr>\n",
       "<tr>\n",
       "  <th>Yt_avg</th>     <td>    0.0308</td> <td>    0.013</td> <td>    2.309</td> <td> 0.021</td> <td>    0.005</td> <td>    0.057</td>\n",
       "</tr>\n",
       "<tr>\n",
       "  <th>Yt_min</th>     <td>   -0.0425</td> <td>    0.016</td> <td>   -2.691</td> <td> 0.007</td> <td>   -0.073</td> <td>   -0.012</td>\n",
       "</tr>\n",
       "<tr>\n",
       "  <th>Yt_max</th>     <td>    0.0081</td> <td>    0.015</td> <td>    0.530</td> <td> 0.596</td> <td>   -0.022</td> <td>    0.038</td>\n",
       "</tr>\n",
       "<tr>\n",
       "  <th>Yt_std</th>     <td>   -0.0547</td> <td>    0.042</td> <td>   -1.314</td> <td> 0.189</td> <td>   -0.136</td> <td>    0.027</td>\n",
       "</tr>\n",
       "<tr>\n",
       "  <th>Ws1_avg</th>    <td>   -0.4352</td> <td>    0.070</td> <td>   -6.248</td> <td> 0.000</td> <td>   -0.572</td> <td>   -0.299</td>\n",
       "</tr>\n",
       "<tr>\n",
       "  <th>Ws1_min</th>    <td>    0.1233</td> <td>    0.027</td> <td>    4.640</td> <td> 0.000</td> <td>    0.071</td> <td>    0.175</td>\n",
       "</tr>\n",
       "<tr>\n",
       "  <th>Ws1_max</th>    <td>    0.0795</td> <td>    0.028</td> <td>    2.874</td> <td> 0.004</td> <td>    0.025</td> <td>    0.134</td>\n",
       "</tr>\n",
       "<tr>\n",
       "  <th>Ws1_std</th>    <td>   -0.1742</td> <td>    0.120</td> <td>   -1.449</td> <td> 0.147</td> <td>   -0.410</td> <td>    0.061</td>\n",
       "</tr>\n",
       "<tr>\n",
       "  <th>Ws2_avg</th>    <td>   -0.2076</td> <td>    0.064</td> <td>   -3.226</td> <td> 0.001</td> <td>   -0.334</td> <td>   -0.081</td>\n",
       "</tr>\n",
       "<tr>\n",
       "  <th>Ws2_min</th>    <td>    0.1777</td> <td>    0.026</td> <td>    6.707</td> <td> 0.000</td> <td>    0.126</td> <td>    0.230</td>\n",
       "</tr>\n",
       "<tr>\n",
       "  <th>Ws2_max</th>    <td>    0.0594</td> <td>    0.027</td> <td>    2.229</td> <td> 0.026</td> <td>    0.007</td> <td>    0.112</td>\n",
       "</tr>\n",
       "<tr>\n",
       "  <th>Ws2_std</th>    <td>    0.0055</td> <td>    0.117</td> <td>    0.047</td> <td> 0.962</td> <td>   -0.223</td> <td>    0.234</td>\n",
       "</tr>\n",
       "<tr>\n",
       "  <th>Ws_avg</th>     <td>    0.4935</td> <td>    0.126</td> <td>    3.905</td> <td> 0.000</td> <td>    0.246</td> <td>    0.741</td>\n",
       "</tr>\n",
       "<tr>\n",
       "  <th>Ws_min</th>     <td>   -0.0374</td> <td>    0.046</td> <td>   -0.821</td> <td> 0.412</td> <td>   -0.127</td> <td>    0.052</td>\n",
       "</tr>\n",
       "<tr>\n",
       "  <th>Ws_max</th>     <td>   -0.0745</td> <td>    0.045</td> <td>   -1.660</td> <td> 0.097</td> <td>   -0.162</td> <td>    0.013</td>\n",
       "</tr>\n",
       "<tr>\n",
       "  <th>Ws_std</th>     <td>   -0.3122</td> <td>    0.226</td> <td>   -1.380</td> <td> 0.168</td> <td>   -0.756</td> <td>    0.131</td>\n",
       "</tr>\n",
       "<tr>\n",
       "  <th>Wa_avg</th>     <td>   -0.0003</td> <td>    0.000</td> <td>   -2.358</td> <td> 0.018</td> <td>   -0.000</td> <td>-4.29e-05</td>\n",
       "</tr>\n",
       "<tr>\n",
       "  <th>Wa_min</th>     <td> 1.112e-05</td> <td> 6.09e-05</td> <td>    0.183</td> <td> 0.855</td> <td>   -0.000</td> <td>    0.000</td>\n",
       "</tr>\n",
       "<tr>\n",
       "  <th>Wa_max</th>     <td>  8.93e-05</td> <td> 5.79e-05</td> <td>    1.542</td> <td> 0.123</td> <td>-2.42e-05</td> <td>    0.000</td>\n",
       "</tr>\n",
       "<tr>\n",
       "  <th>Wa_std</th>     <td>    0.0192</td> <td>    0.002</td> <td>   10.053</td> <td> 0.000</td> <td>    0.015</td> <td>    0.023</td>\n",
       "</tr>\n",
       "<tr>\n",
       "  <th>Va1_avg</th>    <td>   -0.0003</td> <td>    0.000</td> <td>   -2.662</td> <td> 0.008</td> <td>   -0.001</td> <td>-7.97e-05</td>\n",
       "</tr>\n",
       "<tr>\n",
       "  <th>Va1_min</th>    <td>-7.265e-05</td> <td>  6.5e-05</td> <td>   -1.117</td> <td> 0.264</td> <td>   -0.000</td> <td> 5.48e-05</td>\n",
       "</tr>\n",
       "<tr>\n",
       "  <th>Va1_max</th>    <td>  5.85e-05</td> <td> 5.99e-05</td> <td>    0.977</td> <td> 0.329</td> <td>-5.89e-05</td> <td>    0.000</td>\n",
       "</tr>\n",
       "<tr>\n",
       "  <th>Va1_std</th>    <td>   -0.0094</td> <td>    0.001</td> <td>   -9.829</td> <td> 0.000</td> <td>   -0.011</td> <td>   -0.008</td>\n",
       "</tr>\n",
       "<tr>\n",
       "  <th>Va2_avg</th>    <td>   -0.0003</td> <td>    0.000</td> <td>   -2.662</td> <td> 0.008</td> <td>   -0.001</td> <td>-7.97e-05</td>\n",
       "</tr>\n",
       "<tr>\n",
       "  <th>Va2_min</th>    <td>-7.265e-05</td> <td>  6.5e-05</td> <td>   -1.117</td> <td> 0.264</td> <td>   -0.000</td> <td> 5.48e-05</td>\n",
       "</tr>\n",
       "<tr>\n",
       "  <th>Va2_max</th>    <td>  5.85e-05</td> <td> 5.99e-05</td> <td>    0.977</td> <td> 0.329</td> <td>-5.89e-05</td> <td>    0.000</td>\n",
       "</tr>\n",
       "<tr>\n",
       "  <th>Va2_std</th>    <td>   -0.0094</td> <td>    0.001</td> <td>   -9.829</td> <td> 0.000</td> <td>   -0.011</td> <td>   -0.008</td>\n",
       "</tr>\n",
       "<tr>\n",
       "  <th>Ot_avg</th>     <td>   -0.1237</td> <td>    0.071</td> <td>   -1.732</td> <td> 0.083</td> <td>   -0.264</td> <td>    0.016</td>\n",
       "</tr>\n",
       "<tr>\n",
       "  <th>Ot_min</th>     <td>   -0.0107</td> <td>    0.061</td> <td>   -0.177</td> <td> 0.860</td> <td>   -0.129</td> <td>    0.108</td>\n",
       "</tr>\n",
       "<tr>\n",
       "  <th>Ot_max</th>     <td>    0.1338</td> <td>    0.058</td> <td>    2.315</td> <td> 0.021</td> <td>    0.021</td> <td>    0.247</td>\n",
       "</tr>\n",
       "<tr>\n",
       "  <th>Ot_std</th>     <td>   -0.3404</td> <td>    0.155</td> <td>   -2.199</td> <td> 0.028</td> <td>   -0.644</td> <td>   -0.037</td>\n",
       "</tr>\n",
       "<tr>\n",
       "  <th>Nf_avg</th>     <td>   -0.1631</td> <td>    0.128</td> <td>   -1.275</td> <td> 0.202</td> <td>   -0.414</td> <td>    0.088</td>\n",
       "</tr>\n",
       "<tr>\n",
       "  <th>Nf_min</th>     <td>    0.0373</td> <td>    0.100</td> <td>    0.374</td> <td> 0.708</td> <td>   -0.158</td> <td>    0.232</td>\n",
       "</tr>\n",
       "<tr>\n",
       "  <th>Nf_max</th>     <td>    0.2908</td> <td>    0.118</td> <td>    2.463</td> <td> 0.014</td> <td>    0.059</td> <td>    0.522</td>\n",
       "</tr>\n",
       "<tr>\n",
       "  <th>Nf_std</th>     <td>   -0.5408</td> <td>    0.284</td> <td>   -1.905</td> <td> 0.057</td> <td>   -1.097</td> <td>    0.016</td>\n",
       "</tr>\n",
       "<tr>\n",
       "  <th>Nu_avg</th>     <td>    0.0154</td> <td>    0.009</td> <td>    1.753</td> <td> 0.080</td> <td>   -0.002</td> <td>    0.033</td>\n",
       "</tr>\n",
       "<tr>\n",
       "  <th>Nu_min</th>     <td>   -0.0084</td> <td>    0.006</td> <td>   -1.364</td> <td> 0.173</td> <td>   -0.021</td> <td>    0.004</td>\n",
       "</tr>\n",
       "<tr>\n",
       "  <th>Nu_max</th>     <td>   -0.0184</td> <td>    0.008</td> <td>   -2.281</td> <td> 0.023</td> <td>   -0.034</td> <td>   -0.003</td>\n",
       "</tr>\n",
       "<tr>\n",
       "  <th>Nu_std</th>     <td>    0.0304</td> <td>    0.019</td> <td>    1.563</td> <td> 0.118</td> <td>   -0.008</td> <td>    0.069</td>\n",
       "</tr>\n",
       "<tr>\n",
       "  <th>Rs_avg</th>     <td>   15.3798</td> <td>    0.723</td> <td>   21.286</td> <td> 0.000</td> <td>   13.964</td> <td>   16.796</td>\n",
       "</tr>\n",
       "<tr>\n",
       "  <th>Rs_min</th>     <td>   -0.1130</td> <td>    0.272</td> <td>   -0.415</td> <td> 0.678</td> <td>   -0.647</td> <td>    0.421</td>\n",
       "</tr>\n",
       "<tr>\n",
       "  <th>Rs_max</th>     <td>   -0.3105</td> <td>    0.270</td> <td>   -1.151</td> <td> 0.250</td> <td>   -0.840</td> <td>    0.218</td>\n",
       "</tr>\n",
       "<tr>\n",
       "  <th>Rs_std</th>     <td>   -6.1824</td> <td>    0.815</td> <td>   -7.588</td> <td> 0.000</td> <td>   -7.779</td> <td>   -4.585</td>\n",
       "</tr>\n",
       "<tr>\n",
       "  <th>Rbt_avg</th>    <td>   -0.3508</td> <td>    0.104</td> <td>   -3.371</td> <td> 0.001</td> <td>   -0.555</td> <td>   -0.147</td>\n",
       "</tr>\n",
       "<tr>\n",
       "  <th>Rbt_min</th>    <td>    0.4052</td> <td>    0.087</td> <td>    4.648</td> <td> 0.000</td> <td>    0.234</td> <td>    0.576</td>\n",
       "</tr>\n",
       "<tr>\n",
       "  <th>Rbt_max</th>    <td>   -0.0377</td> <td>    0.088</td> <td>   -0.427</td> <td> 0.670</td> <td>   -0.211</td> <td>    0.136</td>\n",
       "</tr>\n",
       "<tr>\n",
       "  <th>Rbt_std</th>    <td>   -0.4551</td> <td>    0.218</td> <td>   -2.089</td> <td> 0.037</td> <td>   -0.882</td> <td>   -0.028</td>\n",
       "</tr>\n",
       "<tr>\n",
       "  <th>Rm_avg</th>     <td>    0.0097</td> <td>    0.000</td> <td>   54.834</td> <td> 0.000</td> <td>    0.009</td> <td>    0.010</td>\n",
       "</tr>\n",
       "<tr>\n",
       "  <th>Rm_min</th>     <td>   -0.0002</td> <td> 7.74e-05</td> <td>   -2.405</td> <td> 0.016</td> <td>   -0.000</td> <td>-3.44e-05</td>\n",
       "</tr>\n",
       "<tr>\n",
       "  <th>Rm_max</th>     <td>   -0.0054</td> <td>    0.000</td> <td>  -25.546</td> <td> 0.000</td> <td>   -0.006</td> <td>   -0.005</td>\n",
       "</tr>\n",
       "<tr>\n",
       "  <th>Rm_std</th>     <td>    0.0088</td> <td>    0.000</td> <td>   23.152</td> <td> 0.000</td> <td>    0.008</td> <td>    0.010</td>\n",
       "</tr>\n",
       "</table>\n",
       "<table class=\"simpletable\">\n",
       "<tr>\n",
       "  <th>Omnibus:</th>       <td>82761.095</td> <th>  Durbin-Watson:     </th>  <td>   2.009</td>  \n",
       "</tr>\n",
       "<tr>\n",
       "  <th>Prob(Omnibus):</th>  <td> 0.000</td>   <th>  Jarque-Bera (JB):  </th> <td>5622169.675</td>\n",
       "</tr>\n",
       "<tr>\n",
       "  <th>Skew:</th>           <td>-3.193</td>   <th>  Prob(JB):          </th>  <td>    0.00</td>  \n",
       "</tr>\n",
       "<tr>\n",
       "  <th>Kurtosis:</th>       <td>37.966</td>   <th>  Cond. No.          </th>  <td>1.34e+16</td>  \n",
       "</tr>\n",
       "</table><br/><br/>Notes:<br/>[1] Standard Errors assume that the covariance matrix of the errors is correctly specified.<br/>[2] The smallest eigenvalue is 4.73e-20. This might indicate that there are<br/>strong multicollinearity problems or that the design matrix is singular."
      ],
      "text/plain": [
       "<class 'statsmodels.iolib.summary.Summary'>\n",
       "\"\"\"\n",
       "                            OLS Regression Results                            \n",
       "==============================================================================\n",
       "Dep. Variable:                  P_avg   R-squared:                       1.000\n",
       "Model:                            OLS   Adj. R-squared:                  1.000\n",
       "Method:                 Least Squares   F-statistic:                 8.292e+07\n",
       "Date:                Tue, 22 Jun 2021   Prob (F-statistic):               0.00\n",
       "Time:                        16:32:39   Log-Likelihood:            -1.9583e+05\n",
       "No. Observations:              106802   AIC:                         3.919e+05\n",
       "Df Residuals:                  106686   BIC:                         3.930e+05\n",
       "Df Model:                         115                                         \n",
       "Covariance Type:            nonrobust                                         \n",
       "==============================================================================\n",
       "                 coef    std err          t      P>|t|      [0.025      0.975]\n",
       "------------------------------------------------------------------------------\n",
       "const        -35.0179      0.496    -70.622      0.000     -35.990     -34.046\n",
       "Ba_avg         0.2124      0.003     64.752      0.000       0.206       0.219\n",
       "Ba_min        -0.1398      0.003    -44.463      0.000      -0.146      -0.134\n",
       "Ba_max        -0.0738      0.003    -23.548      0.000      -0.080      -0.068\n",
       "Ba_std        -0.1133      0.008    -13.538      0.000      -0.130      -0.097\n",
       "Rt_avg        -0.0831      0.017     -4.950      0.000      -0.116      -0.050\n",
       "Rt_min         0.0338      0.014      2.361      0.018       0.006       0.062\n",
       "Rt_max         0.0572      0.021      2.740      0.006       0.016       0.098\n",
       "Rt_std        -0.0181      0.058     -0.312      0.755      -0.132       0.096\n",
       "DCs_avg       -0.0077      0.004     -1.792      0.073      -0.016       0.001\n",
       "DCs_min       -0.0151      0.004     -4.043      0.000      -0.022      -0.008\n",
       "DCs_max        0.0187      0.004      5.103      0.000       0.012       0.026\n",
       "DCs_std       -0.0785      0.008    -10.349      0.000      -0.093      -0.064\n",
       "Cm_avg         0.0047      0.000     26.791      0.000       0.004       0.005\n",
       "Cm_min        -0.0061      0.000    -57.226      0.000      -0.006      -0.006\n",
       "Cm_max         0.0005      0.000      2.707      0.007       0.000       0.001\n",
       "Cm_std        -0.0038      0.000     -9.508      0.000      -0.005      -0.003\n",
       "P_min          0.1338      0.001     93.961      0.000       0.131       0.137\n",
       "P_max          0.2138      0.002    121.449      0.000       0.210       0.217\n",
       "P_std         -0.4975      0.005    -94.946      0.000      -0.508      -0.487\n",
       "Q_avg         -0.1052      0.001    -82.900      0.000      -0.108      -0.103\n",
       "Q_min          0.0171      0.001     14.974      0.000       0.015       0.019\n",
       "Q_max          0.0478      0.001     52.785      0.000       0.046       0.050\n",
       "Q_std         -0.2001      0.003    -58.808      0.000      -0.207      -0.193\n",
       "S_avg          0.9252      0.001   1730.244      0.000       0.924       0.926\n",
       "S_min         -0.1021      0.001    -81.629      0.000      -0.105      -0.100\n",
       "S_max         -0.1870      0.002   -113.520      0.000      -0.190      -0.184\n",
       "S_std          0.4771      0.005     98.736      0.000       0.468       0.487\n",
       "Cosphi_avg    34.4477      0.212    162.791      0.000      34.033      34.862\n",
       "Cosphi_min     0.0036      0.009      0.411      0.681      -0.014       0.021\n",
       "Cosphi_max     0.6769      0.095      7.152      0.000       0.491       0.862\n",
       "Cosphi_std   -32.5327      0.426    -76.403      0.000     -33.367     -31.698\n",
       "Ds_avg        -0.1337      0.008    -16.892      0.000      -0.149      -0.118\n",
       "Ds_min         0.0122      0.004      2.857      0.004       0.004       0.021\n",
       "Ds_max        -0.0201      0.004     -4.742      0.000      -0.028      -0.012\n",
       "Ds_std         0.1409      0.010     13.752      0.000       0.121       0.161\n",
       "Db1t_avg      -0.1906      0.061     -3.130      0.002      -0.310      -0.071\n",
       "Db1t_min       0.2155      0.048      4.474      0.000       0.121       0.310\n",
       "Db1t_max      -0.0171      0.047     -0.367      0.714      -0.108       0.074\n",
       "Db1t_std       0.7942      0.127      6.248      0.000       0.545       1.043\n",
       "Db2t_avg       0.7147      0.089      8.053      0.000       0.541       0.889\n",
       "Db2t_min      -0.2329      0.073     -3.208      0.001      -0.375      -0.091\n",
       "Db2t_max      -0.4827      0.071     -6.800      0.000      -0.622      -0.344\n",
       "Db2t_std       0.1128      0.189      0.598      0.550      -0.257       0.482\n",
       "Dst_avg        0.1159      0.030      3.809      0.000       0.056       0.176\n",
       "Dst_min       -0.0070      0.022     -0.320      0.749      -0.050       0.036\n",
       "Dst_max       -0.1230      0.020     -6.146      0.000      -0.162      -0.084\n",
       "Dst_std       -0.0060      0.063     -0.095      0.924      -0.130       0.118\n",
       "Gb1t_avg      -0.2665      0.039     -6.901      0.000      -0.342      -0.191\n",
       "Gb1t_min       0.0813      0.032      2.553      0.011       0.019       0.144\n",
       "Gb1t_max       0.1688      0.034      4.994      0.000       0.103       0.235\n",
       "Gb1t_std       0.7899      0.086      9.176      0.000       0.621       0.959\n",
       "Gb2t_avg       0.4000      0.036     10.981      0.000       0.329       0.471\n",
       "Gb2t_min      -0.0360      0.033     -1.092      0.275      -0.101       0.029\n",
       "Gb2t_max      -0.1609      0.034     -4.666      0.000      -0.229      -0.093\n",
       "Gb2t_std      -0.4117      0.088     -4.681      0.000      -0.584      -0.239\n",
       "Git_avg        0.0467      0.012      3.932      0.000       0.023       0.070\n",
       "Git_min        0.0404      0.012      3.505      0.000       0.018       0.063\n",
       "Git_max       -0.0812      0.013     -6.111      0.000      -0.107      -0.055\n",
       "Git_std        0.0847      0.030      2.846      0.004       0.026       0.143\n",
       "Gost_avg      -0.1730      0.055     -3.123      0.002      -0.282      -0.064\n",
       "Gost_min      -0.2161      0.040     -5.461      0.000      -0.294      -0.139\n",
       "Gost_max       0.2074      0.043      4.808      0.000       0.123       0.292\n",
       "Gost_std      -1.5167      0.115    -13.155      0.000      -1.743      -1.291\n",
       "Ya_avg        -0.0016      0.000     -4.474      0.000      -0.002      -0.001\n",
       "Ya_min         0.0004      0.000      1.540      0.123      -0.000       0.001\n",
       "Ya_max         0.0014      0.000      5.150      0.000       0.001       0.002\n",
       "Ya_std         0.0025      0.001      1.750      0.080      -0.000       0.005\n",
       "Yt_avg         0.0308      0.013      2.309      0.021       0.005       0.057\n",
       "Yt_min        -0.0425      0.016     -2.691      0.007      -0.073      -0.012\n",
       "Yt_max         0.0081      0.015      0.530      0.596      -0.022       0.038\n",
       "Yt_std        -0.0547      0.042     -1.314      0.189      -0.136       0.027\n",
       "Ws1_avg       -0.4352      0.070     -6.248      0.000      -0.572      -0.299\n",
       "Ws1_min        0.1233      0.027      4.640      0.000       0.071       0.175\n",
       "Ws1_max        0.0795      0.028      2.874      0.004       0.025       0.134\n",
       "Ws1_std       -0.1742      0.120     -1.449      0.147      -0.410       0.061\n",
       "Ws2_avg       -0.2076      0.064     -3.226      0.001      -0.334      -0.081\n",
       "Ws2_min        0.1777      0.026      6.707      0.000       0.126       0.230\n",
       "Ws2_max        0.0594      0.027      2.229      0.026       0.007       0.112\n",
       "Ws2_std        0.0055      0.117      0.047      0.962      -0.223       0.234\n",
       "Ws_avg         0.4935      0.126      3.905      0.000       0.246       0.741\n",
       "Ws_min        -0.0374      0.046     -0.821      0.412      -0.127       0.052\n",
       "Ws_max        -0.0745      0.045     -1.660      0.097      -0.162       0.013\n",
       "Ws_std        -0.3122      0.226     -1.380      0.168      -0.756       0.131\n",
       "Wa_avg        -0.0003      0.000     -2.358      0.018      -0.000   -4.29e-05\n",
       "Wa_min      1.112e-05   6.09e-05      0.183      0.855      -0.000       0.000\n",
       "Wa_max       8.93e-05   5.79e-05      1.542      0.123   -2.42e-05       0.000\n",
       "Wa_std         0.0192      0.002     10.053      0.000       0.015       0.023\n",
       "Va1_avg       -0.0003      0.000     -2.662      0.008      -0.001   -7.97e-05\n",
       "Va1_min    -7.265e-05    6.5e-05     -1.117      0.264      -0.000    5.48e-05\n",
       "Va1_max      5.85e-05   5.99e-05      0.977      0.329   -5.89e-05       0.000\n",
       "Va1_std       -0.0094      0.001     -9.829      0.000      -0.011      -0.008\n",
       "Va2_avg       -0.0003      0.000     -2.662      0.008      -0.001   -7.97e-05\n",
       "Va2_min    -7.265e-05    6.5e-05     -1.117      0.264      -0.000    5.48e-05\n",
       "Va2_max      5.85e-05   5.99e-05      0.977      0.329   -5.89e-05       0.000\n",
       "Va2_std       -0.0094      0.001     -9.829      0.000      -0.011      -0.008\n",
       "Ot_avg        -0.1237      0.071     -1.732      0.083      -0.264       0.016\n",
       "Ot_min        -0.0107      0.061     -0.177      0.860      -0.129       0.108\n",
       "Ot_max         0.1338      0.058      2.315      0.021       0.021       0.247\n",
       "Ot_std        -0.3404      0.155     -2.199      0.028      -0.644      -0.037\n",
       "Nf_avg        -0.1631      0.128     -1.275      0.202      -0.414       0.088\n",
       "Nf_min         0.0373      0.100      0.374      0.708      -0.158       0.232\n",
       "Nf_max         0.2908      0.118      2.463      0.014       0.059       0.522\n",
       "Nf_std        -0.5408      0.284     -1.905      0.057      -1.097       0.016\n",
       "Nu_avg         0.0154      0.009      1.753      0.080      -0.002       0.033\n",
       "Nu_min        -0.0084      0.006     -1.364      0.173      -0.021       0.004\n",
       "Nu_max        -0.0184      0.008     -2.281      0.023      -0.034      -0.003\n",
       "Nu_std         0.0304      0.019      1.563      0.118      -0.008       0.069\n",
       "Rs_avg        15.3798      0.723     21.286      0.000      13.964      16.796\n",
       "Rs_min        -0.1130      0.272     -0.415      0.678      -0.647       0.421\n",
       "Rs_max        -0.3105      0.270     -1.151      0.250      -0.840       0.218\n",
       "Rs_std        -6.1824      0.815     -7.588      0.000      -7.779      -4.585\n",
       "Rbt_avg       -0.3508      0.104     -3.371      0.001      -0.555      -0.147\n",
       "Rbt_min        0.4052      0.087      4.648      0.000       0.234       0.576\n",
       "Rbt_max       -0.0377      0.088     -0.427      0.670      -0.211       0.136\n",
       "Rbt_std       -0.4551      0.218     -2.089      0.037      -0.882      -0.028\n",
       "Rm_avg         0.0097      0.000     54.834      0.000       0.009       0.010\n",
       "Rm_min        -0.0002   7.74e-05     -2.405      0.016      -0.000   -3.44e-05\n",
       "Rm_max        -0.0054      0.000    -25.546      0.000      -0.006      -0.005\n",
       "Rm_std         0.0088      0.000     23.152      0.000       0.008       0.010\n",
       "==============================================================================\n",
       "Omnibus:                    82761.095   Durbin-Watson:                   2.009\n",
       "Prob(Omnibus):                  0.000   Jarque-Bera (JB):          5622169.675\n",
       "Skew:                          -3.193   Prob(JB):                         0.00\n",
       "Kurtosis:                      37.966   Cond. No.                     1.34e+16\n",
       "==============================================================================\n",
       "\n",
       "Notes:\n",
       "[1] Standard Errors assume that the covariance matrix of the errors is correctly specified.\n",
       "[2] The smallest eigenvalue is 4.73e-20. This might indicate that there are\n",
       "strong multicollinearity problems or that the design matrix is singular.\n",
       "\"\"\""
      ]
     },
     "execution_count": 16,
     "metadata": {},
     "output_type": "execute_result"
    }
   ],
   "source": [
    "# Entraînement du modèle\n",
    "# refacto : faire une fonction qui fait toutes les étapes - de la suppression des nulles au score R2 de stat model\n",
    "# et entrainement du modèle avec cross et score\n",
    "# Fit et score sur le X_train\n",
    "\n",
    "X_train_constant = sm.add_constant(X_train)\n",
    "model_lin_reg = sm.OLS(y_train, X_train_constant)\n",
    "results = model_lin_reg.fit()\n",
    "results.summary()"
   ]
  },
  {
   "cell_type": "markdown",
   "metadata": {},
   "source": [
    "**Interprétation**\n",
    "\n",
    "- R2 de 1 signifie clairement que nous avons un problème. Les hypothèses d'un tel score sont : multicolinéarité (formule du calcul de l'énergie de la turbine - d'ailleurs, nous avons un message d'erreur l'indiquant) ou overfitting. \n",
    "- Coefficient : nous constatons une certaine variabilité des coefficients. Il peut être intéressant de détecter celles qui ont d\n",
    "- p-values : il ne faudra retenir que les p_value significatives (dont l'hypothèse nulle a été rejetée)\n",
    "- skew négatif <-1 : cela signifie que nos données sont fortement biaisées !!vérifier\n",
    "\n",
    "CONTINUER A ANALYSER LES INDICATEURS STAT MODEL\n",
    "p2 : analyse des coefficients https://eric.univ-lyon2.fr/~ricco/cours/slides/Reg_Multiple_Colinearite_Selection_Variables.pdf et des pvalues\n",
    "\n",
    "**Solutions**\n",
    "- Vérifier l'overfitting avec la cross_val et le score sur le test\n",
    "- Vérifier si les présupposés de la régression linéaire ont été respectés\n",
    "- Réduire les features (matrice de corrélation / VIF / PCA) afin de vérifier le présupposé de la multicolinéarité"
   ]
  },
  {
   "cell_type": "markdown",
   "metadata": {},
   "source": [
    "### Cross validation, score & overfitting"
   ]
  },
  {
   "cell_type": "code",
   "execution_count": 17,
   "metadata": {},
   "outputs": [
    {
     "data": {
      "text/plain": [
       "0.9999888126923081"
      ]
     },
     "execution_count": 17,
     "metadata": {},
     "output_type": "execute_result"
    }
   ],
   "source": [
    "# Score model sur le X_train avec Sklearn\n",
    "\n",
    "model = LinearRegression()\n",
    "model.fit(X_train, y_train)\n",
    "model.score(X_train, y_train)"
   ]
  },
  {
   "cell_type": "code",
   "execution_count": 18,
   "metadata": {},
   "outputs": [
    {
     "data": {
      "text/plain": [
       "array([0.99998865, 0.99999068, 0.99998907, 0.99998764, 0.99998855,\n",
       "       0.99998815, 0.99998881, 0.99998837, 0.99998775, 0.99998983,\n",
       "       0.99998783, 0.99998874, 0.99998854, 0.99998929, 0.99998898])"
      ]
     },
     "execution_count": 18,
     "metadata": {},
     "output_type": "execute_result"
    }
   ],
   "source": [
    "# En cross validation avec l'accuracy\n",
    "\n",
    "cross_val_score(model, X_train, y_train, cv = 15)"
   ]
  },
  {
   "cell_type": "code",
   "execution_count": 19,
   "metadata": {},
   "outputs": [
    {
     "data": {
      "text/plain": [
       "array([-2.25812077, -1.98449956, -2.26502508, -2.50122274, -2.31922335,\n",
       "       -2.4063055 , -2.35530725, -2.28087863, -2.50206864, -2.17703943,\n",
       "       -2.47609981, -2.26407681, -2.38823159, -2.16680635, -2.25946303])"
      ]
     },
     "execution_count": 19,
     "metadata": {},
     "output_type": "execute_result"
    }
   ],
   "source": [
    "# En cross validation avec la Mean Squre Error\n",
    "# Dans la mesure où nous n'avons pas supprimé les outliers, nous utilisons la MSE comme fonction_coût car\n",
    "# la mise au carré des erreurs pondère plus fortement les valeurs abérrantes\n",
    "\n",
    "cross_val_score(model, X_train, y_train, scoring='neg_mean_squared_error', cv = 15)"
   ]
  },
  {
   "cell_type": "code",
   "execution_count": 20,
   "metadata": {},
   "outputs": [
    {
     "data": {
      "text/plain": [
       "0.9999881600956833"
      ]
     },
     "execution_count": 20,
     "metadata": {},
     "output_type": "execute_result"
    }
   ],
   "source": [
    "model.score(X_test, y_test)"
   ]
  },
  {
   "cell_type": "markdown",
   "metadata": {},
   "source": [
    "Nous avons utilisé la cross validation pour éviter l'overfitting (et récuser notre hypothèse) et scorer le modèle sur plusieurs échantillons. Le score en cross_val et sur le test est quasiment identique. Nous n'avons pas d'overfitting."
   ]
  },
  {
   "cell_type": "markdown",
   "metadata": {},
   "source": [
    "### Vérification des présupposés du modèle"
   ]
  },
  {
   "cell_type": "markdown",
   "metadata": {},
   "source": [
    "Regardons du côté des pré-supposés de la régression linéaire (non colinéarité et distribution normale des résidus) dont le non-respect impliquerait que notre modèle n'est pas robuste. "
   ]
  },
  {
   "cell_type": "code",
   "execution_count": 21,
   "metadata": {},
   "outputs": [
    {
     "data": {
      "image/png": "[encoded data removed]",
      "text/plain": [
       "<Figure size 432x288 with 1 Axes>"
      ]
     },
     "metadata": {
      "needs_background": "light"
     },
     "output_type": "display_data"
    }
   ],
   "source": [
    "# Residual plot et distribution du X_train\n",
    "# CHANGER L ECHELLE POUR UNE MEILLEURE VISIBILITE\n",
    "\n",
    "y_hat = model.predict(X_train)\n",
    "residuals = y_hat - y_train\n",
    "\n",
    "sns.histplot(data=residuals, kde=True)\n",
    "plt.title('Distribution des résidus')\n",
    "plt.show()"
   ]
  },
  {
   "cell_type": "code",
   "execution_count": 22,
   "metadata": {},
   "outputs": [
    {
     "data": {
      "text/plain": [
       "count    1.068020e+05\n",
       "mean    -1.854638e-14\n",
       "std      1.513797e+00\n",
       "min     -1.669516e+01\n",
       "25%     -5.597787e-01\n",
       "50%      7.369191e-03\n",
       "75%      4.593189e-01\n",
       "max      2.642472e+01\n",
       "Name: P_avg, dtype: float64"
      ]
     },
     "execution_count": 22,
     "metadata": {},
     "output_type": "execute_result"
    }
   ],
   "source": [
    "residuals.describe()"
   ]
  },
  {
   "cell_type": "code",
   "execution_count": 23,
   "metadata": {},
   "outputs": [
    {
     "name": "stdout",
     "output_type": "stream",
     "text": [
      "Moyenne des résidus : -1.854638155296219e-14\n",
      "Médiane des résidus : 0.007369191005821563\n",
      "Mode des résidus : 0.9812546689333459\n"
     ]
    }
   ],
   "source": [
    "print(f\"Moyenne des résidus : {np.mean(residuals)}\")\n",
    "print(f\"Médiane des résidus : {np.median(residuals)}\")\n",
    "print(f\"Mode des résidus : {mode(residuals)}\")"
   ]
  },
  {
   "cell_type": "code",
   "execution_count": 24,
   "metadata": {},
   "outputs": [
    {
     "data": {
      "image/png": "[encoded data removed]",
      "text/plain": [
       "<Figure size 432x288 with 1 Axes>"
      ]
     },
     "metadata": {
      "needs_background": "light"
     },
     "output_type": "display_data"
    }
   ],
   "source": [
    "# QQ plot : permet de vérifier si la distribution suit une loi normale\n",
    "\n",
    "stats.probplot(residuals, dist=\"norm\", plot=pylab)\n",
    "pylab.show()"
   ]
  },
  {
   "cell_type": "markdown",
   "metadata": {},
   "source": [
    "Notre distribution n'est pas gaussienne. Ce présupposé de la régression linéaire n'est pas respecté. "
   ]
  },
  {
   "cell_type": "markdown",
   "metadata": {},
   "source": [
    "## Test avec la variable \"Wind speed average\" (Ws_avg)"
   ]
  },
  {
   "cell_type": "markdown",
   "metadata": {},
   "source": [
    "Repartons d'un modèle plus simple en ne retenant qu'une seule feature pour voir comment se comporte notre modèle."
   ]
  },
  {
   "cell_type": "markdown",
   "metadata": {},
   "source": [
    "### Features selection & split"
   ]
  },
  {
   "cell_type": "code",
   "execution_count": 117,
   "metadata": {},
   "outputs": [],
   "source": [
    "# Définition des features\n",
    "\n",
    "X_2 = df[['Ws_avg']]\n",
    "y_2 = df['P_avg']"
   ]
  },
  {
   "cell_type": "code",
   "execution_count": 118,
   "metadata": {},
   "outputs": [
    {
     "name": "stdout",
     "output_type": "stream",
     "text": [
      "Train set :  (106802, 1)\n",
      "Test set : (26701, 1)\n"
     ]
    }
   ],
   "source": [
    "# Split\n",
    "\n",
    "X_2_train, X_2_test, y_2_train, y_2_test = train_test_split(X_2, y_2, test_size = 0.20, random_state = 5)\n",
    "\n",
    "print('Train set : ', X_2_train.shape)\n",
    "print('Test set :', X_2_test.shape)"
   ]
  },
  {
   "cell_type": "markdown",
   "metadata": {},
   "source": [
    "### Entrainement du modèle"
   ]
  },
  {
   "cell_type": "code",
   "execution_count": 119,
   "metadata": {},
   "outputs": [
    {
     "data": {
      "text/html": [
       "<table class=\"simpletable\">\n",
       "<caption>OLS Regression Results</caption>\n",
       "<tr>\n",
       "  <th>Dep. Variable:</th>          <td>P_avg</td>      <th>  R-squared:         </th>  <td>   0.819</td>  \n",
       "</tr>\n",
       "<tr>\n",
       "  <th>Model:</th>                   <td>OLS</td>       <th>  Adj. R-squared:    </th>  <td>   0.819</td>  \n",
       "</tr>\n",
       "<tr>\n",
       "  <th>Method:</th>             <td>Least Squares</td>  <th>  F-statistic:       </th>  <td>4.818e+05</td> \n",
       "</tr>\n",
       "<tr>\n",
       "  <th>Date:</th>             <td>Tue, 22 Jun 2021</td> <th>  Prob (F-statistic):</th>   <td>  0.00</td>   \n",
       "</tr>\n",
       "<tr>\n",
       "  <th>Time:</th>                 <td>21:31:32</td>     <th>  Log-Likelihood:    </th> <td>-7.1349e+05</td>\n",
       "</tr>\n",
       "<tr>\n",
       "  <th>No. Observations:</th>      <td>106802</td>      <th>  AIC:               </th>  <td>1.427e+06</td> \n",
       "</tr>\n",
       "<tr>\n",
       "  <th>Df Residuals:</th>          <td>106800</td>      <th>  BIC:               </th>  <td>1.427e+06</td> \n",
       "</tr>\n",
       "<tr>\n",
       "  <th>Df Model:</th>              <td>     1</td>      <th>                     </th>      <td> </td>     \n",
       "</tr>\n",
       "<tr>\n",
       "  <th>Covariance Type:</th>      <td>nonrobust</td>    <th>                     </th>      <td> </td>     \n",
       "</tr>\n",
       "</table>\n",
       "<table class=\"simpletable\">\n",
       "<tr>\n",
       "     <td></td>       <th>coef</th>     <th>std err</th>      <th>t</th>      <th>P>|t|</th>  <th>[0.025</th>    <th>0.975]</th>  \n",
       "</tr>\n",
       "<tr>\n",
       "  <th>const</th>  <td> -509.9923</td> <td>    1.392</td> <td> -366.448</td> <td> 0.000</td> <td> -512.720</td> <td> -507.265</td>\n",
       "</tr>\n",
       "<tr>\n",
       "  <th>Ws_avg</th> <td>  157.2745</td> <td>    0.227</td> <td>  694.134</td> <td> 0.000</td> <td>  156.830</td> <td>  157.719</td>\n",
       "</tr>\n",
       "</table>\n",
       "<table class=\"simpletable\">\n",
       "<tr>\n",
       "  <th>Omnibus:</th>       <td>15550.403</td> <th>  Durbin-Watson:     </th>  <td>   2.010</td> \n",
       "</tr>\n",
       "<tr>\n",
       "  <th>Prob(Omnibus):</th>  <td> 0.000</td>   <th>  Jarque-Bera (JB):  </th> <td>240218.246</td>\n",
       "</tr>\n",
       "<tr>\n",
       "  <th>Skew:</th>           <td> 0.102</td>   <th>  Prob(JB):          </th>  <td>    0.00</td> \n",
       "</tr>\n",
       "<tr>\n",
       "  <th>Kurtosis:</th>       <td>10.344</td>   <th>  Cond. No.          </th>  <td>    14.8</td> \n",
       "</tr>\n",
       "</table><br/><br/>Notes:<br/>[1] Standard Errors assume that the covariance matrix of the errors is correctly specified."
      ],
      "text/plain": [
       "<class 'statsmodels.iolib.summary.Summary'>\n",
       "\"\"\"\n",
       "                            OLS Regression Results                            \n",
       "==============================================================================\n",
       "Dep. Variable:                  P_avg   R-squared:                       0.819\n",
       "Model:                            OLS   Adj. R-squared:                  0.819\n",
       "Method:                 Least Squares   F-statistic:                 4.818e+05\n",
       "Date:                Tue, 22 Jun 2021   Prob (F-statistic):               0.00\n",
       "Time:                        21:31:32   Log-Likelihood:            -7.1349e+05\n",
       "No. Observations:              106802   AIC:                         1.427e+06\n",
       "Df Residuals:                  106800   BIC:                         1.427e+06\n",
       "Df Model:                           1                                         \n",
       "Covariance Type:            nonrobust                                         \n",
       "==============================================================================\n",
       "                 coef    std err          t      P>|t|      [0.025      0.975]\n",
       "------------------------------------------------------------------------------\n",
       "const       -509.9923      1.392   -366.448      0.000    -512.720    -507.265\n",
       "Ws_avg       157.2745      0.227    694.134      0.000     156.830     157.719\n",
       "==============================================================================\n",
       "Omnibus:                    15550.403   Durbin-Watson:                   2.010\n",
       "Prob(Omnibus):                  0.000   Jarque-Bera (JB):           240218.246\n",
       "Skew:                           0.102   Prob(JB):                         0.00\n",
       "Kurtosis:                      10.344   Cond. No.                         14.8\n",
       "==============================================================================\n",
       "\n",
       "Notes:\n",
       "[1] Standard Errors assume that the covariance matrix of the errors is correctly specified.\n",
       "\"\"\""
      ]
     },
     "execution_count": 119,
     "metadata": {},
     "output_type": "execute_result"
    }
   ],
   "source": [
    "# Entraînement du modèle avec statmodel\n",
    "\n",
    "X_2_train_constant = sm.add_constant(X_2_train)\n",
    "new_model_linreg = sm.OLS(y_2_train, X_2_train_constant)\n",
    "resultats_2 = new_model_linreg.fit()\n",
    "resultats_2.summary()"
   ]
  },
  {
   "cell_type": "markdown",
   "metadata": {},
   "source": [
    "**Interpretation**\n",
    "\n",
    "On constate qu'avec la seule variable wind, notre R2 diminue mais il faudrait vérifier si notre modèle est plus robuste."
   ]
  },
  {
   "cell_type": "code",
   "execution_count": 120,
   "metadata": {},
   "outputs": [
    {
     "data": {
      "text/plain": [
       "0.8185593562861201"
      ]
     },
     "execution_count": 120,
     "metadata": {},
     "output_type": "execute_result"
    }
   ],
   "source": [
    "model = LinearRegression()\n",
    "model.fit(X_2_train, y_2_train)\n",
    "model.score(X_2_train, y_2_train)"
   ]
  },
  {
   "cell_type": "markdown",
   "metadata": {},
   "source": [
    "### Cross validation & score"
   ]
  },
  {
   "cell_type": "code",
   "execution_count": 121,
   "metadata": {},
   "outputs": [
    {
     "data": {
      "text/plain": [
       "0.8184215189527565"
      ]
     },
     "execution_count": 121,
     "metadata": {},
     "output_type": "execute_result"
    }
   ],
   "source": [
    "# En cross validation avec l'accuracy\n",
    "# FAIRE BOUCLE QUI PERMET DE VERIFIER A PARTIR DE COMBIEN DE CV NOTRE MODELE EST LE PLUS PROBANT\n",
    "\n",
    "cross_val_score(model, X_2_train, y_2_train, cv = 15).mean()"
   ]
  },
  {
   "cell_type": "code",
   "execution_count": 122,
   "metadata": {},
   "outputs": [
    {
     "data": {
      "text/plain": [
       "-37167.9973128273"
      ]
     },
     "execution_count": 122,
     "metadata": {},
     "output_type": "execute_result"
    }
   ],
   "source": [
    "cross_val_score(model, X_2_train, y_2_train, scoring='neg_mean_squared_error', cv = 15).mean()"
   ]
  },
  {
   "cell_type": "code",
   "execution_count": 123,
   "metadata": {},
   "outputs": [
    {
     "data": {
      "text/plain": [
       "0.8246806550114052"
      ]
     },
     "execution_count": 123,
     "metadata": {},
     "output_type": "execute_result"
    }
   ],
   "source": [
    "model.score(X_2_test, y_2_test)"
   ]
  },
  {
   "cell_type": "markdown",
   "metadata": {},
   "source": [
    "### Vérification des présupposés du modèle"
   ]
  },
  {
   "cell_type": "code",
   "execution_count": 134,
   "metadata": {},
   "outputs": [
    {
     "data": {
      "image/png": "[encoded data removed]",
      "text/plain": [
       "<Figure size 432x288 with 1 Axes>"
      ]
     },
     "metadata": {
      "needs_background": "light"
     },
     "output_type": "display_data"
    }
   ],
   "source": [
    "y_hat = model.predict(X_2_test)\n",
    "residuals = y_hat - y_2_test\n",
    "\n",
    "sns.histplot(data=residuals, kde=True)\n",
    "plt.title('Distribution des résidus')\n",
    "plt.show()"
   ]
  },
  {
   "cell_type": "code",
   "execution_count": 135,
   "metadata": {},
   "outputs": [
    {
     "data": {
      "image/png": "[encoded data removed]",
      "text/plain": [
       "<Figure size 432x288 with 1 Axes>"
      ]
     },
     "metadata": {
      "needs_background": "light"
     },
     "output_type": "display_data"
    }
   ],
   "source": [
    "stats.probplot(residuals, dist=\"norm\", plot=pylab)\n",
    "pylab.show()"
   ]
  },
  {
   "cell_type": "markdown",
   "metadata": {},
   "source": [
    "Nous constatons que notre distribution ne suit toujours pas une loi normale malgré que le présupposé de la multinolinéarité ait été écarté. Notre modèle a des difficultés à estimer l'énergie générée par l'éolienne lorsque les valeurs sont élevées ou basses, avec une plus grande difficulté pour les valeurs élevées (VERIFIER EXACTEMENT LA MESURE ?). Nous n'avons pas encore étudié ni géré les outliers. Il serait intéressant de voir quels sont-ils et ce que nous devons en faire (les supprimer, créer des classs, etc?).  "
   ]
  },
  {
   "cell_type": "markdown",
   "metadata": {},
   "source": [
    "Tentons dans un premier temps de gérer la multicolinéarité des features et d'entrainer/optimiser plusieurs modèles"
   ]
  },
  {
   "cell_type": "markdown",
   "metadata": {},
   "source": [
    "## Selection features grâce à VIF"
   ]
  },
  {
   "cell_type": "markdown",
   "metadata": {},
   "source": [
    "L'indicateur VIF (Variance Inflation Factor) va nous permettre de checker les variables colinéaires entre elles et ainsi prévenir la colinéarité entre les features pré-sélectionnées."
   ]
  },
  {
   "cell_type": "markdown",
   "metadata": {},
   "source": [
    "### Sélection sommaire avec le heatmap"
   ]
  },
  {
   "cell_type": "code",
   "execution_count": 34,
   "metadata": {},
   "outputs": [
    {
     "name": "stdout",
     "output_type": "stream",
     "text": [
      "P_avg      1.000000\n",
      "S_avg      0.999954\n",
      "Rm_avg     0.995928\n",
      "Cm_avg     0.993942\n",
      "S_max      0.961374\n",
      "P_max      0.961219\n",
      "Rm_max     0.955826\n",
      "Cm_max     0.955102\n",
      "S_min      0.942943\n",
      "P_min      0.940164\n",
      "Cm_min     0.923291\n",
      "Rm_min     0.921698\n",
      "Ws_max     0.908641\n",
      "Ws1_max    0.907777\n",
      "Ws_avg     0.905426\n",
      "Ws1_avg    0.904396\n",
      "Ws2_max    0.903843\n",
      "Ws2_avg    0.901692\n",
      "Q_max      0.830156\n",
      "S_std      0.804944\n",
      "P_std      0.803368\n",
      "Cm_std     0.793571\n",
      "Q_avg      0.790875\n",
      "Rm_std     0.784083\n",
      "Ws_min     0.780492\n",
      "Ws1_min    0.773852\n",
      "Ws2_min    0.773524\n",
      "Ws_std     0.738596\n",
      "Ws1_std    0.737013\n",
      "Rs_min     0.730674\n",
      "Name: P_avg, dtype: float64 \n",
      "\n"
     ]
    }
   ],
   "source": [
    "corr = df.corr()\n",
    "print (corr['P_avg'].sort_values(ascending=False)[:30], '\\n')"
   ]
  },
  {
   "cell_type": "code",
   "execution_count": 35,
   "metadata": {},
   "outputs": [],
   "source": [
    "# X.shape[1] = récupère les colonnes seulement\n",
    "# variance_inflation_factor parameters : exog = all explanatory variables in narray / exog-idx = index of the exogenous variable in the columns of exog\n",
    "# On sélectionne les features en fonction de la matrice de correlation - finalement cela ne nous aide pas, car\n",
    "# elles sont très multicolinéaires => \"ajustement manuel\"\n",
    "\n",
    "X = df[['Ws_avg', 'Cosphi_avg', 'Rm_avg', 'Rs_avg']]\n",
    "\n",
    "vif = pd.DataFrame()\n",
    "vif[\"Features\"] = X.columns\n",
    "vif[\"vif_factor\"] = [variance_inflation_factor(X.values, i) for i in range(X.shape[1])]"
   ]
  },
  {
   "cell_type": "code",
   "execution_count": 36,
   "metadata": {
    "scrolled": true
   },
   "outputs": [
    {
     "data": {
      "text/html": [
       "<div>\n",
       "<style scoped>\n",
       "    .dataframe tbody tr th:only-of-type {\n",
       "        vertical-align: middle;\n",
       "    }\n",
       "\n",
       "    .dataframe tbody tr th {\n",
       "        vertical-align: top;\n",
       "    }\n",
       "\n",
       "    .dataframe thead th {\n",
       "        text-align: right;\n",
       "    }\n",
       "</style>\n",
       "<table border=\"1\" class=\"dataframe\">\n",
       "  <thead>\n",
       "    <tr style=\"text-align: right;\">\n",
       "      <th></th>\n",
       "      <th>Features</th>\n",
       "      <th>vif_factor</th>\n",
       "    </tr>\n",
       "  </thead>\n",
       "  <tbody>\n",
       "    <tr>\n",
       "      <th>0</th>\n",
       "      <td>Ws_avg</td>\n",
       "      <td>56.0</td>\n",
       "    </tr>\n",
       "    <tr>\n",
       "      <th>1</th>\n",
       "      <td>Cosphi_avg</td>\n",
       "      <td>13.0</td>\n",
       "    </tr>\n",
       "    <tr>\n",
       "      <th>2</th>\n",
       "      <td>Rm_avg</td>\n",
       "      <td>12.0</td>\n",
       "    </tr>\n",
       "    <tr>\n",
       "      <th>3</th>\n",
       "      <td>Rs_avg</td>\n",
       "      <td>17.0</td>\n",
       "    </tr>\n",
       "  </tbody>\n",
       "</table>\n",
       "</div>"
      ],
      "text/plain": [
       "     Features  vif_factor\n",
       "0      Ws_avg        56.0\n",
       "1  Cosphi_avg        13.0\n",
       "2      Rm_avg        12.0\n",
       "3      Rs_avg        17.0"
      ]
     },
     "execution_count": 36,
     "metadata": {},
     "output_type": "execute_result"
    }
   ],
   "source": [
    "vif.round()"
   ]
  },
  {
   "cell_type": "markdown",
   "metadata": {},
   "source": [
    "Nous n'avons pas de résultat en deça de 10 mais nous sélectionnons les features les moins colinéaires. \n",
    "D'ailleurs, si nous faisons un VIF avec juste 'Cosphi_avg', 'Rm_avg', 'Rs_avg', nous obtenons de la colinéarité inférieure à 10. "
   ]
  },
  {
   "cell_type": "markdown",
   "metadata": {},
   "source": [
    "*Cosinus phi* = power factor -  caractéristique d'un récepteur électrique qui rend compte de son efficacité pour consommer de la puissance lorsqu'il est traversé par un courant.  \n",
    "\n",
    "*Rm_avg* = C'est une technologie exclusivement développée par Alstom et qui équipe l'ensemble de ses éoliennes. Elle protège la ligne de transmission des forces indésirables du vent en les redirigeant vers la tour. Le système PURE TORQUE® améliore la fiabilité et la durabilité de la turbine.\n",
    "\n",
    "*Rs_avg* = rotor"
   ]
  },
  {
   "cell_type": "markdown",
   "metadata": {},
   "source": [
    "### Selection features avec PCA"
   ]
  },
  {
   "cell_type": "markdown",
   "metadata": {},
   "source": [
    "# Deuxième itération"
   ]
  },
  {
   "cell_type": "code",
   "execution_count": 195,
   "metadata": {},
   "outputs": [],
   "source": [
    "import pandas as pd\n",
    "import numpy as np\n",
    "import matplotlib.pyplot as plt\n",
    "import seaborn as sns\n",
    "import statsmodels.api as sm\n",
    "import scipy.stats as stats\n",
    "\n",
    "from sklearn.metrics import r2_score, mean_absolute_error\n",
    "from sklearn.model_selection import cross_val_score\n",
    "\n",
    "from sklearn.model_selection import train_test_split\n",
    "from sklearn.model_selection import cross_val_score\n",
    "\n",
    "from sklearn.linear_model import LinearRegression\n",
    "from sklearn import linear_model\n",
    "\n",
    "from sklearn.preprocessing import RobustScaler\n",
    "from sklearn.preprocessing import OneHotEncoder\n",
    "from sklearn.impute import SimpleImputer\n",
    "from sklearn.compose import make_column_transformer\n",
    "\n",
    "from sklearn.model_selection import GridSearchCV\n",
    "\n",
    "from sklearn.pipeline import make_pipeline\n",
    "from sklearn import set_config \n",
    "set_config(display='diagram')"
   ]
  },
  {
   "cell_type": "code",
   "execution_count": 207,
   "metadata": {},
   "outputs": [],
   "source": [
    "df_3 = data.copy()\n",
    "#df_3.replace([np.inf, -np.inf], np.nan, inplace=True)"
   ]
  },
  {
   "cell_type": "code",
   "execution_count": 208,
   "metadata": {},
   "outputs": [],
   "source": [
    "# On droppe les colonnes qui ont plus de 70% de valeurs nulles\n",
    "\n",
    "def delet_features_having_more_then_50_per_cent_miss_values(data):\n",
    "    return data[data.columns[data.isna().sum()/data.shape[0] <0.3]]\n",
    "\n",
    "df_3 = delet_features_having_more_then_50_per_cent_miss_values(df_3)"
   ]
  },
  {
   "cell_type": "markdown",
   "metadata": {},
   "source": [
    "## Définition des variables et split"
   ]
  },
  {
   "cell_type": "code",
   "execution_count": 221,
   "metadata": {},
   "outputs": [],
   "source": [
    "# On détermine les features en fonction du VIF\n",
    "\n",
    "X = df_3[['Ws_avg','Cosphi_avg', 'Rm_avg', 'Rs_avg']]\n",
    "y = df_3['P_avg']"
   ]
  },
  {
   "cell_type": "code",
   "execution_count": 223,
   "metadata": {},
   "outputs": [],
   "source": [
    "X_train, X_test, y_train, y_test = train_test_split(X, y, test_size = 0.2, random_state = 5)"
   ]
  },
  {
   "cell_type": "code",
   "execution_count": null,
   "metadata": {},
   "outputs": [],
   "source": [
    "# Transformer\n",
    "scaler = StandardScaler()\n",
    "X_train_transformed = scaler.fit_transform(X_train)\n",
    "\n",
    "# Estimator\n",
    "model = SGDClassifier(random_state =0)\n",
    "model.fit(X_train_transformed, y_train)\n",
    "\n",
    "# Test\n",
    "X_test_transformed = scaler.transform(X_test)\n",
    "model.predict(X_test_transformed)"
   ]
  },
  {
   "cell_type": "code",
   "execution_count": 220,
   "metadata": {},
   "outputs": [
    {
     "data": {
      "text/plain": [
       "array([[-1.82517489,  0.        , -0.53172048, -1.85969282],\n",
       "       [-0.19230773, -0.999999  ,  0.0351112 , -0.0083022 ],\n",
       "       [-0.12587413, -0.999999  , -0.01659975, -0.04649232],\n",
       "       ...,\n",
       "       [ 1.71678328, -1.        ,  2.17393634,  0.93316729],\n",
       "       [ 1.42657348,  0.        ,  1.88542143,  0.93150685],\n",
       "       [ 1.51398607,  0.        ,  1.94384036,  0.93150685]])"
      ]
     },
     "execution_count": 220,
     "metadata": {},
     "output_type": "execute_result"
    }
   ],
   "source": [
    "# Création du transformer Imputer\n",
    "\n",
    "imputer = SimpleImputer(missing_values=np.nan, strategy=\"median\")\n",
    "X_train_transformed = imputer.fit_transformed(X_train)"
   ]
  },
  {
   "cell_type": "code",
   "execution_count": null,
   "metadata": {},
   "outputs": [],
   "source": []
  },
  {
   "cell_type": "markdown",
   "metadata": {},
   "source": [
    "## Preprocessing (pipeline)"
   ]
  },
  {
   "cell_type": "code",
   "execution_count": 219,
   "metadata": {},
   "outputs": [
    {
     "ename": "AttributeError",
     "evalue": "'numpy.ndarray' object has no attribute 'select_dtypes'",
     "output_type": "error",
     "traceback": [
      "\u001b[1;31m---------------------------------------------------------------------------\u001b[0m",
      "\u001b[1;31mAttributeError\u001b[0m                            Traceback (most recent call last)",
      "\u001b[1;32m<ipython-input-219-88a260f49339>\u001b[0m in \u001b[0;36m<module>\u001b[1;34m\u001b[0m\n\u001b[0;32m      1\u001b[0m \u001b[1;31m# On définit les variables numériques et catégorielles\u001b[0m\u001b[1;33m\u001b[0m\u001b[1;33m\u001b[0m\u001b[1;33m\u001b[0m\u001b[0m\n\u001b[0;32m      2\u001b[0m \u001b[1;33m\u001b[0m\u001b[0m\n\u001b[1;32m----> 3\u001b[1;33m \u001b[0mcategorical_features\u001b[0m \u001b[1;33m=\u001b[0m \u001b[0mX\u001b[0m\u001b[1;33m.\u001b[0m\u001b[0mselect_dtypes\u001b[0m\u001b[1;33m(\u001b[0m\u001b[0minclude\u001b[0m\u001b[1;33m=\u001b[0m\u001b[1;33m[\u001b[0m\u001b[1;34m'object'\u001b[0m\u001b[1;33m]\u001b[0m\u001b[1;33m)\u001b[0m\u001b[1;33m.\u001b[0m\u001b[0mcolumns\u001b[0m\u001b[1;33m\u001b[0m\u001b[1;33m\u001b[0m\u001b[0m\n\u001b[0m\u001b[0;32m      4\u001b[0m \u001b[1;31m#numerical_features = (list(X.select_dtypes(include=['float', 'integer']).columns.values))\u001b[0m\u001b[1;33m\u001b[0m\u001b[1;33m\u001b[0m\u001b[1;33m\u001b[0m\u001b[0m\n\u001b[0;32m      5\u001b[0m \u001b[0mnumerical_features\u001b[0m \u001b[1;33m=\u001b[0m \u001b[0mlist\u001b[0m\u001b[1;33m(\u001b[0m\u001b[0mX\u001b[0m\u001b[1;33m.\u001b[0m\u001b[0mcolumns\u001b[0m\u001b[1;33m.\u001b[0m\u001b[0mvalues\u001b[0m\u001b[1;33m)\u001b[0m\u001b[1;33m\u001b[0m\u001b[1;33m\u001b[0m\u001b[0m\n",
      "\u001b[1;31mAttributeError\u001b[0m: 'numpy.ndarray' object has no attribute 'select_dtypes'"
     ]
    }
   ],
   "source": [
    "# On définit les variables numériques et catégorielles\n",
    "\n",
    "categorical_features = X.select_dtypes(include=['object']).columns\n",
    "#numerical_features = (list(X.select_dtypes(include=['float', 'integer']).columns.values))\n",
    "numerical_features = list(X.columns.values)"
   ]
  },
  {
   "cell_type": "code",
   "execution_count": null,
   "metadata": {},
   "outputs": [],
   "source": [
    "# Mise en place pipeline pour chaque catégorie de variable\n",
    "# Pas de NaN pour les valeurs catégorielles donc pas de SimpleImputer\n",
    "# Remplacement des NaN valeurs nuémriques par la médiane car nous avons des outliers non gérés\n",
    "# Robuscaler() : moins sensible aux valeurs extrêmes\n",
    "\n",
    "pipe_categorical = make_pipeline(OneHotEncoder(handle_unknown='ignore'))\n",
    "pipe_numerical  = make_pipeline(SimpleImputer(missing_values=np.nan, strategy=\"median\"))"
   ]
  },
  {
   "cell_type": "code",
   "execution_count": null,
   "metadata": {},
   "outputs": [],
   "source": [
    "# On transforme les colonnes crées avec les pipeline de preprocessing\n",
    "# (pipe_categorical,categorical_features)\n",
    "\n",
    "preprocessing = make_column_transformer((pipe_numerical, numerical_features), \n",
    "                                        (pipe_categorical,categorical_features), remainder='passthrough')\n",
    "\n",
    "preprocessing"
   ]
  },
  {
   "cell_type": "code",
   "execution_count": null,
   "metadata": {},
   "outputs": [],
   "source": [
    "# Tester l'algo de détection des meilleurs modèles"
   ]
  },
  {
   "cell_type": "code",
   "execution_count": 214,
   "metadata": {
    "collapsed": true
   },
   "outputs": [
    {
     "ename": "ValueError",
     "evalue": "Input contains NaN, infinity or a value too large for dtype('float64').",
     "output_type": "error",
     "traceback": [
      "\u001b[1;31m---------------------------------------------------------------------------\u001b[0m",
      "\u001b[1;31mValueError\u001b[0m                                Traceback (most recent call last)",
      "\u001b[1;32m<ipython-input-214-c6e063988463>\u001b[0m in \u001b[0;36m<module>\u001b[1;34m\u001b[0m\n\u001b[0;32m      2\u001b[0m \u001b[1;33m\u001b[0m\u001b[0m\n\u001b[0;32m      3\u001b[0m \u001b[0mred_reg\u001b[0m \u001b[1;33m=\u001b[0m \u001b[0mmake_pipeline\u001b[0m\u001b[1;33m(\u001b[0m\u001b[0mpreprocessing\u001b[0m\u001b[1;33m,\u001b[0m \u001b[0mRidge\u001b[0m\u001b[1;33m(\u001b[0m\u001b[1;33m)\u001b[0m\u001b[1;33m)\u001b[0m\u001b[1;33m\u001b[0m\u001b[1;33m\u001b[0m\u001b[0m\n\u001b[1;32m----> 4\u001b[1;33m \u001b[0mred_reg\u001b[0m\u001b[1;33m.\u001b[0m\u001b[0mfit\u001b[0m\u001b[1;33m(\u001b[0m\u001b[0mX\u001b[0m\u001b[1;33m,\u001b[0m \u001b[0my\u001b[0m\u001b[1;33m)\u001b[0m\u001b[1;33m\u001b[0m\u001b[1;33m\u001b[0m\u001b[0m\n\u001b[0m",
      "\u001b[1;32m~\\anaconda3\\lib\\site-packages\\sklearn\\pipeline.py\u001b[0m in \u001b[0;36mfit\u001b[1;34m(self, X, y, **fit_params)\u001b[0m\n\u001b[0;32m    333\u001b[0m             \u001b[1;32mif\u001b[0m \u001b[0mself\u001b[0m\u001b[1;33m.\u001b[0m\u001b[0m_final_estimator\u001b[0m \u001b[1;33m!=\u001b[0m \u001b[1;34m'passthrough'\u001b[0m\u001b[1;33m:\u001b[0m\u001b[1;33m\u001b[0m\u001b[1;33m\u001b[0m\u001b[0m\n\u001b[0;32m    334\u001b[0m                 \u001b[0mfit_params_last_step\u001b[0m \u001b[1;33m=\u001b[0m \u001b[0mfit_params_steps\u001b[0m\u001b[1;33m[\u001b[0m\u001b[0mself\u001b[0m\u001b[1;33m.\u001b[0m\u001b[0msteps\u001b[0m\u001b[1;33m[\u001b[0m\u001b[1;33m-\u001b[0m\u001b[1;36m1\u001b[0m\u001b[1;33m]\u001b[0m\u001b[1;33m[\u001b[0m\u001b[1;36m0\u001b[0m\u001b[1;33m]\u001b[0m\u001b[1;33m]\u001b[0m\u001b[1;33m\u001b[0m\u001b[1;33m\u001b[0m\u001b[0m\n\u001b[1;32m--> 335\u001b[1;33m                 \u001b[0mself\u001b[0m\u001b[1;33m.\u001b[0m\u001b[0m_final_estimator\u001b[0m\u001b[1;33m.\u001b[0m\u001b[0mfit\u001b[0m\u001b[1;33m(\u001b[0m\u001b[0mXt\u001b[0m\u001b[1;33m,\u001b[0m \u001b[0my\u001b[0m\u001b[1;33m,\u001b[0m \u001b[1;33m**\u001b[0m\u001b[0mfit_params_last_step\u001b[0m\u001b[1;33m)\u001b[0m\u001b[1;33m\u001b[0m\u001b[1;33m\u001b[0m\u001b[0m\n\u001b[0m\u001b[0;32m    336\u001b[0m \u001b[1;33m\u001b[0m\u001b[0m\n\u001b[0;32m    337\u001b[0m         \u001b[1;32mreturn\u001b[0m \u001b[0mself\u001b[0m\u001b[1;33m\u001b[0m\u001b[1;33m\u001b[0m\u001b[0m\n",
      "\u001b[1;32m~\\anaconda3\\lib\\site-packages\\sklearn\\linear_model\\_ridge.py\u001b[0m in \u001b[0;36mfit\u001b[1;34m(self, X, y, sample_weight)\u001b[0m\n\u001b[0;32m    760\u001b[0m         \u001b[0mself\u001b[0m \u001b[1;33m:\u001b[0m \u001b[0mreturns\u001b[0m \u001b[0man\u001b[0m \u001b[0minstance\u001b[0m \u001b[0mof\u001b[0m \u001b[0mself\u001b[0m\u001b[1;33m.\u001b[0m\u001b[1;33m\u001b[0m\u001b[1;33m\u001b[0m\u001b[0m\n\u001b[0;32m    761\u001b[0m         \"\"\"\n\u001b[1;32m--> 762\u001b[1;33m         \u001b[1;32mreturn\u001b[0m \u001b[0msuper\u001b[0m\u001b[1;33m(\u001b[0m\u001b[1;33m)\u001b[0m\u001b[1;33m.\u001b[0m\u001b[0mfit\u001b[0m\u001b[1;33m(\u001b[0m\u001b[0mX\u001b[0m\u001b[1;33m,\u001b[0m \u001b[0my\u001b[0m\u001b[1;33m,\u001b[0m \u001b[0msample_weight\u001b[0m\u001b[1;33m=\u001b[0m\u001b[0msample_weight\u001b[0m\u001b[1;33m)\u001b[0m\u001b[1;33m\u001b[0m\u001b[1;33m\u001b[0m\u001b[0m\n\u001b[0m\u001b[0;32m    763\u001b[0m \u001b[1;33m\u001b[0m\u001b[0m\n\u001b[0;32m    764\u001b[0m \u001b[1;33m\u001b[0m\u001b[0m\n",
      "\u001b[1;32m~\\anaconda3\\lib\\site-packages\\sklearn\\linear_model\\_ridge.py\u001b[0m in \u001b[0;36mfit\u001b[1;34m(self, X, y, sample_weight)\u001b[0m\n\u001b[0;32m    540\u001b[0m         _accept_sparse = _get_valid_accept_sparse(sparse.issparse(X),\n\u001b[0;32m    541\u001b[0m                                                   self.solver)\n\u001b[1;32m--> 542\u001b[1;33m         X, y = self._validate_data(X, y,\n\u001b[0m\u001b[0;32m    543\u001b[0m                                    \u001b[0maccept_sparse\u001b[0m\u001b[1;33m=\u001b[0m\u001b[0m_accept_sparse\u001b[0m\u001b[1;33m,\u001b[0m\u001b[1;33m\u001b[0m\u001b[1;33m\u001b[0m\u001b[0m\n\u001b[0;32m    544\u001b[0m                                    \u001b[0mdtype\u001b[0m\u001b[1;33m=\u001b[0m\u001b[0m_dtype\u001b[0m\u001b[1;33m,\u001b[0m\u001b[1;33m\u001b[0m\u001b[1;33m\u001b[0m\u001b[0m\n",
      "\u001b[1;32m~\\anaconda3\\lib\\site-packages\\sklearn\\base.py\u001b[0m in \u001b[0;36m_validate_data\u001b[1;34m(self, X, y, reset, validate_separately, **check_params)\u001b[0m\n\u001b[0;32m    430\u001b[0m                 \u001b[0my\u001b[0m \u001b[1;33m=\u001b[0m \u001b[0mcheck_array\u001b[0m\u001b[1;33m(\u001b[0m\u001b[0my\u001b[0m\u001b[1;33m,\u001b[0m \u001b[1;33m**\u001b[0m\u001b[0mcheck_y_params\u001b[0m\u001b[1;33m)\u001b[0m\u001b[1;33m\u001b[0m\u001b[1;33m\u001b[0m\u001b[0m\n\u001b[0;32m    431\u001b[0m             \u001b[1;32melse\u001b[0m\u001b[1;33m:\u001b[0m\u001b[1;33m\u001b[0m\u001b[1;33m\u001b[0m\u001b[0m\n\u001b[1;32m--> 432\u001b[1;33m                 \u001b[0mX\u001b[0m\u001b[1;33m,\u001b[0m \u001b[0my\u001b[0m \u001b[1;33m=\u001b[0m \u001b[0mcheck_X_y\u001b[0m\u001b[1;33m(\u001b[0m\u001b[0mX\u001b[0m\u001b[1;33m,\u001b[0m \u001b[0my\u001b[0m\u001b[1;33m,\u001b[0m \u001b[1;33m**\u001b[0m\u001b[0mcheck_params\u001b[0m\u001b[1;33m)\u001b[0m\u001b[1;33m\u001b[0m\u001b[1;33m\u001b[0m\u001b[0m\n\u001b[0m\u001b[0;32m    433\u001b[0m             \u001b[0mout\u001b[0m \u001b[1;33m=\u001b[0m \u001b[0mX\u001b[0m\u001b[1;33m,\u001b[0m \u001b[0my\u001b[0m\u001b[1;33m\u001b[0m\u001b[1;33m\u001b[0m\u001b[0m\n\u001b[0;32m    434\u001b[0m \u001b[1;33m\u001b[0m\u001b[0m\n",
      "\u001b[1;32m~\\anaconda3\\lib\\site-packages\\sklearn\\utils\\validation.py\u001b[0m in \u001b[0;36minner_f\u001b[1;34m(*args, **kwargs)\u001b[0m\n\u001b[0;32m     70\u001b[0m                           FutureWarning)\n\u001b[0;32m     71\u001b[0m         \u001b[0mkwargs\u001b[0m\u001b[1;33m.\u001b[0m\u001b[0mupdate\u001b[0m\u001b[1;33m(\u001b[0m\u001b[1;33m{\u001b[0m\u001b[0mk\u001b[0m\u001b[1;33m:\u001b[0m \u001b[0marg\u001b[0m \u001b[1;32mfor\u001b[0m \u001b[0mk\u001b[0m\u001b[1;33m,\u001b[0m \u001b[0marg\u001b[0m \u001b[1;32min\u001b[0m \u001b[0mzip\u001b[0m\u001b[1;33m(\u001b[0m\u001b[0msig\u001b[0m\u001b[1;33m.\u001b[0m\u001b[0mparameters\u001b[0m\u001b[1;33m,\u001b[0m \u001b[0margs\u001b[0m\u001b[1;33m)\u001b[0m\u001b[1;33m}\u001b[0m\u001b[1;33m)\u001b[0m\u001b[1;33m\u001b[0m\u001b[1;33m\u001b[0m\u001b[0m\n\u001b[1;32m---> 72\u001b[1;33m         \u001b[1;32mreturn\u001b[0m \u001b[0mf\u001b[0m\u001b[1;33m(\u001b[0m\u001b[1;33m**\u001b[0m\u001b[0mkwargs\u001b[0m\u001b[1;33m)\u001b[0m\u001b[1;33m\u001b[0m\u001b[1;33m\u001b[0m\u001b[0m\n\u001b[0m\u001b[0;32m     73\u001b[0m     \u001b[1;32mreturn\u001b[0m \u001b[0minner_f\u001b[0m\u001b[1;33m\u001b[0m\u001b[1;33m\u001b[0m\u001b[0m\n\u001b[0;32m     74\u001b[0m \u001b[1;33m\u001b[0m\u001b[0m\n",
      "\u001b[1;32m~\\anaconda3\\lib\\site-packages\\sklearn\\utils\\validation.py\u001b[0m in \u001b[0;36mcheck_X_y\u001b[1;34m(X, y, accept_sparse, accept_large_sparse, dtype, order, copy, force_all_finite, ensure_2d, allow_nd, multi_output, ensure_min_samples, ensure_min_features, y_numeric, estimator)\u001b[0m\n\u001b[0;32m    802\u001b[0m                     estimator=estimator)\n\u001b[0;32m    803\u001b[0m     \u001b[1;32mif\u001b[0m \u001b[0mmulti_output\u001b[0m\u001b[1;33m:\u001b[0m\u001b[1;33m\u001b[0m\u001b[1;33m\u001b[0m\u001b[0m\n\u001b[1;32m--> 804\u001b[1;33m         y = check_array(y, accept_sparse='csr', force_all_finite=True,\n\u001b[0m\u001b[0;32m    805\u001b[0m                         ensure_2d=False, dtype=None)\n\u001b[0;32m    806\u001b[0m     \u001b[1;32melse\u001b[0m\u001b[1;33m:\u001b[0m\u001b[1;33m\u001b[0m\u001b[1;33m\u001b[0m\u001b[0m\n",
      "\u001b[1;32m~\\anaconda3\\lib\\site-packages\\sklearn\\utils\\validation.py\u001b[0m in \u001b[0;36minner_f\u001b[1;34m(*args, **kwargs)\u001b[0m\n\u001b[0;32m     70\u001b[0m                           FutureWarning)\n\u001b[0;32m     71\u001b[0m         \u001b[0mkwargs\u001b[0m\u001b[1;33m.\u001b[0m\u001b[0mupdate\u001b[0m\u001b[1;33m(\u001b[0m\u001b[1;33m{\u001b[0m\u001b[0mk\u001b[0m\u001b[1;33m:\u001b[0m \u001b[0marg\u001b[0m \u001b[1;32mfor\u001b[0m \u001b[0mk\u001b[0m\u001b[1;33m,\u001b[0m \u001b[0marg\u001b[0m \u001b[1;32min\u001b[0m \u001b[0mzip\u001b[0m\u001b[1;33m(\u001b[0m\u001b[0msig\u001b[0m\u001b[1;33m.\u001b[0m\u001b[0mparameters\u001b[0m\u001b[1;33m,\u001b[0m \u001b[0margs\u001b[0m\u001b[1;33m)\u001b[0m\u001b[1;33m}\u001b[0m\u001b[1;33m)\u001b[0m\u001b[1;33m\u001b[0m\u001b[1;33m\u001b[0m\u001b[0m\n\u001b[1;32m---> 72\u001b[1;33m         \u001b[1;32mreturn\u001b[0m \u001b[0mf\u001b[0m\u001b[1;33m(\u001b[0m\u001b[1;33m**\u001b[0m\u001b[0mkwargs\u001b[0m\u001b[1;33m)\u001b[0m\u001b[1;33m\u001b[0m\u001b[1;33m\u001b[0m\u001b[0m\n\u001b[0m\u001b[0;32m     73\u001b[0m     \u001b[1;32mreturn\u001b[0m \u001b[0minner_f\u001b[0m\u001b[1;33m\u001b[0m\u001b[1;33m\u001b[0m\u001b[0m\n\u001b[0;32m     74\u001b[0m \u001b[1;33m\u001b[0m\u001b[0m\n",
      "\u001b[1;32m~\\anaconda3\\lib\\site-packages\\sklearn\\utils\\validation.py\u001b[0m in \u001b[0;36mcheck_array\u001b[1;34m(array, accept_sparse, accept_large_sparse, dtype, order, copy, force_all_finite, ensure_2d, allow_nd, ensure_min_samples, ensure_min_features, estimator)\u001b[0m\n\u001b[0;32m    642\u001b[0m \u001b[1;33m\u001b[0m\u001b[0m\n\u001b[0;32m    643\u001b[0m         \u001b[1;32mif\u001b[0m \u001b[0mforce_all_finite\u001b[0m\u001b[1;33m:\u001b[0m\u001b[1;33m\u001b[0m\u001b[1;33m\u001b[0m\u001b[0m\n\u001b[1;32m--> 644\u001b[1;33m             _assert_all_finite(array,\n\u001b[0m\u001b[0;32m    645\u001b[0m                                allow_nan=force_all_finite == 'allow-nan')\n\u001b[0;32m    646\u001b[0m \u001b[1;33m\u001b[0m\u001b[0m\n",
      "\u001b[1;32m~\\anaconda3\\lib\\site-packages\\sklearn\\utils\\validation.py\u001b[0m in \u001b[0;36m_assert_all_finite\u001b[1;34m(X, allow_nan, msg_dtype)\u001b[0m\n\u001b[0;32m     94\u001b[0m                 not allow_nan and not np.isfinite(X).all()):\n\u001b[0;32m     95\u001b[0m             \u001b[0mtype_err\u001b[0m \u001b[1;33m=\u001b[0m \u001b[1;34m'infinity'\u001b[0m \u001b[1;32mif\u001b[0m \u001b[0mallow_nan\u001b[0m \u001b[1;32melse\u001b[0m \u001b[1;34m'NaN, infinity'\u001b[0m\u001b[1;33m\u001b[0m\u001b[1;33m\u001b[0m\u001b[0m\n\u001b[1;32m---> 96\u001b[1;33m             raise ValueError(\n\u001b[0m\u001b[0;32m     97\u001b[0m                     \u001b[0mmsg_err\u001b[0m\u001b[1;33m.\u001b[0m\u001b[0mformat\u001b[0m\u001b[1;33m\u001b[0m\u001b[1;33m\u001b[0m\u001b[0m\n\u001b[0;32m     98\u001b[0m                     (type_err,\n",
      "\u001b[1;31mValueError\u001b[0m: Input contains NaN, infinity or a value too large for dtype('float64')."
     ]
    }
   ],
   "source": [
    "from sklearn.linear_model import Ridge\n",
    "\n",
    "red_reg = make_pipeline(preprocessing, Ridge())\n",
    "red_reg.fit(X, y)"
   ]
  },
  {
   "cell_type": "code",
   "execution_count": null,
   "metadata": {},
   "outputs": [],
   "source": [
    "# Essaie avec autre méthode de preprocessing\n",
    "\n",
    "# categorical_transformer = Pipeline([\n",
    "#     ('impute', SimpleImputer(strategy='most_frequent')),\n",
    "#     ('onehot', OneHotEncoder(handle_unknown='ignore'))\n",
    "# ])\n",
    "# categorical_transformer"
   ]
  },
  {
   "cell_type": "code",
   "execution_count": 159,
   "metadata": {},
   "outputs": [
    {
     "data": {
      "text/html": [
       "<style>div.sk-top-container {color: black;background-color: white;}div.sk-toggleable {background-color: white;}label.sk-toggleable__label {cursor: pointer;display: block;width: 100%;margin-bottom: 0;padding: 0.2em 0.3em;box-sizing: border-box;text-align: center;}div.sk-toggleable__content {max-height: 0;max-width: 0;overflow: hidden;text-align: left;background-color: #f0f8ff;}div.sk-toggleable__content pre {margin: 0.2em;color: black;border-radius: 0.25em;background-color: #f0f8ff;}input.sk-toggleable__control:checked~div.sk-toggleable__content {max-height: 200px;max-width: 100%;overflow: auto;}div.sk-estimator input.sk-toggleable__control:checked~label.sk-toggleable__label {background-color: #d4ebff;}div.sk-label input.sk-toggleable__control:checked~label.sk-toggleable__label {background-color: #d4ebff;}input.sk-hidden--visually {border: 0;clip: rect(1px 1px 1px 1px);clip: rect(1px, 1px, 1px, 1px);height: 1px;margin: -1px;overflow: hidden;padding: 0;position: absolute;width: 1px;}div.sk-estimator {font-family: monospace;background-color: #f0f8ff;margin: 0.25em 0.25em;border: 1px dotted black;border-radius: 0.25em;box-sizing: border-box;}div.sk-estimator:hover {background-color: #d4ebff;}div.sk-parallel-item::after {content: \"\";width: 100%;border-bottom: 1px solid gray;flex-grow: 1;}div.sk-label:hover label.sk-toggleable__label {background-color: #d4ebff;}div.sk-serial::before {content: \"\";position: absolute;border-left: 1px solid gray;box-sizing: border-box;top: 2em;bottom: 0;left: 50%;}div.sk-serial {display: flex;flex-direction: column;align-items: center;background-color: white;}div.sk-item {z-index: 1;}div.sk-parallel {display: flex;align-items: stretch;justify-content: center;background-color: white;}div.sk-parallel-item {display: flex;flex-direction: column;position: relative;background-color: white;}div.sk-parallel-item:first-child::after {align-self: flex-end;width: 50%;}div.sk-parallel-item:last-child::after {align-self: flex-start;width: 50%;}div.sk-parallel-item:only-child::after {width: 0;}div.sk-dashed-wrapped {border: 1px dashed gray;margin: 0.2em;box-sizing: border-box;padding-bottom: 0.1em;background-color: white;position: relative;}div.sk-label label {font-family: monospace;font-weight: bold;background-color: white;display: inline-block;line-height: 1.2em;}div.sk-label-container {position: relative;z-index: 2;text-align: center;}div.sk-container {display: inline-block;position: relative;}</style><div class=\"sk-top-container\"><div class=\"sk-container\"><div class=\"sk-item sk-dashed-wrapped\"><div class=\"sk-label-container\"><div class=\"sk-label sk-toggleable\"><input class=\"sk-toggleable__control sk-hidden--visually\" id=\"94718b0d-9845-4397-8a68-d8359ade7844\" type=\"checkbox\" ><label class=\"sk-toggleable__label\" for=\"94718b0d-9845-4397-8a68-d8359ade7844\">Pipeline</label><div class=\"sk-toggleable__content\"><pre>Pipeline(steps=[('impute', SimpleImputer(strategy='median')),\n",
       "                ('scale', StandardScaler())])</pre></div></div></div><div class=\"sk-serial\"><div class=\"sk-item\"><div class=\"sk-estimator sk-toggleable\"><input class=\"sk-toggleable__control sk-hidden--visually\" id=\"797cc93d-29c5-4fd7-acee-c9b6d1a4a111\" type=\"checkbox\" ><label class=\"sk-toggleable__label\" for=\"797cc93d-29c5-4fd7-acee-c9b6d1a4a111\">SimpleImputer</label><div class=\"sk-toggleable__content\"><pre>SimpleImputer(strategy='median')</pre></div></div></div><div class=\"sk-item\"><div class=\"sk-estimator sk-toggleable\"><input class=\"sk-toggleable__control sk-hidden--visually\" id=\"847c8581-c9c0-4048-adc7-e582f97bf7aa\" type=\"checkbox\" ><label class=\"sk-toggleable__label\" for=\"847c8581-c9c0-4048-adc7-e582f97bf7aa\">StandardScaler</label><div class=\"sk-toggleable__content\"><pre>StandardScaler()</pre></div></div></div></div></div></div></div>"
      ],
      "text/plain": [
       "Pipeline(steps=[('impute', SimpleImputer(strategy='median')),\n",
       "                ('scale', StandardScaler())])"
      ]
     },
     "execution_count": 159,
     "metadata": {},
     "output_type": "execute_result"
    }
   ],
   "source": [
    "from sklearn.pipeline import Pipeline\n",
    "from sklearn.preprocessing import StandardScaler\n",
    "from sklearn.compose import ColumnTransformer\n",
    "\n",
    "numeric_transformer = Pipeline([\n",
    "    ('impute', SimpleImputer(strategy='median')),\n",
    "    ('scale', StandardScaler())\n",
    "])\n",
    "numeric_transformer"
   ]
  },
  {
   "cell_type": "code",
   "execution_count": 160,
   "metadata": {},
   "outputs": [
    {
     "data": {
      "text/html": [
       "<style>div.sk-top-container {color: black;background-color: white;}div.sk-toggleable {background-color: white;}label.sk-toggleable__label {cursor: pointer;display: block;width: 100%;margin-bottom: 0;padding: 0.2em 0.3em;box-sizing: border-box;text-align: center;}div.sk-toggleable__content {max-height: 0;max-width: 0;overflow: hidden;text-align: left;background-color: #f0f8ff;}div.sk-toggleable__content pre {margin: 0.2em;color: black;border-radius: 0.25em;background-color: #f0f8ff;}input.sk-toggleable__control:checked~div.sk-toggleable__content {max-height: 200px;max-width: 100%;overflow: auto;}div.sk-estimator input.sk-toggleable__control:checked~label.sk-toggleable__label {background-color: #d4ebff;}div.sk-label input.sk-toggleable__control:checked~label.sk-toggleable__label {background-color: #d4ebff;}input.sk-hidden--visually {border: 0;clip: rect(1px 1px 1px 1px);clip: rect(1px, 1px, 1px, 1px);height: 1px;margin: -1px;overflow: hidden;padding: 0;position: absolute;width: 1px;}div.sk-estimator {font-family: monospace;background-color: #f0f8ff;margin: 0.25em 0.25em;border: 1px dotted black;border-radius: 0.25em;box-sizing: border-box;}div.sk-estimator:hover {background-color: #d4ebff;}div.sk-parallel-item::after {content: \"\";width: 100%;border-bottom: 1px solid gray;flex-grow: 1;}div.sk-label:hover label.sk-toggleable__label {background-color: #d4ebff;}div.sk-serial::before {content: \"\";position: absolute;border-left: 1px solid gray;box-sizing: border-box;top: 2em;bottom: 0;left: 50%;}div.sk-serial {display: flex;flex-direction: column;align-items: center;background-color: white;}div.sk-item {z-index: 1;}div.sk-parallel {display: flex;align-items: stretch;justify-content: center;background-color: white;}div.sk-parallel-item {display: flex;flex-direction: column;position: relative;background-color: white;}div.sk-parallel-item:first-child::after {align-self: flex-end;width: 50%;}div.sk-parallel-item:last-child::after {align-self: flex-start;width: 50%;}div.sk-parallel-item:only-child::after {width: 0;}div.sk-dashed-wrapped {border: 1px dashed gray;margin: 0.2em;box-sizing: border-box;padding-bottom: 0.1em;background-color: white;position: relative;}div.sk-label label {font-family: monospace;font-weight: bold;background-color: white;display: inline-block;line-height: 1.2em;}div.sk-label-container {position: relative;z-index: 2;text-align: center;}div.sk-container {display: inline-block;position: relative;}</style><div class=\"sk-top-container\"><div class=\"sk-container\"><div class=\"sk-item sk-dashed-wrapped\"><div class=\"sk-label-container\"><div class=\"sk-label sk-toggleable\"><input class=\"sk-toggleable__control sk-hidden--visually\" id=\"a0079f40-6c37-48da-bf5c-62837ed36531\" type=\"checkbox\" ><label class=\"sk-toggleable__label\" for=\"a0079f40-6c37-48da-bf5c-62837ed36531\">ColumnTransformer</label><div class=\"sk-toggleable__content\"><pre>ColumnTransformer(transformers=[('numeric_features',\n",
       "                                 Pipeline(steps=[('impute',\n",
       "                                                  SimpleImputer(strategy='median')),\n",
       "                                                 ('scale', StandardScaler())]),\n",
       "                                 ['Ws_avg', 'Cosphi_avg', 'Rm_avg', 'Rs_avg'])])</pre></div></div></div><div class=\"sk-parallel\"><div class=\"sk-parallel-item\"><div class=\"sk-item\"><div class=\"sk-label-container\"><div class=\"sk-label sk-toggleable\"><input class=\"sk-toggleable__control sk-hidden--visually\" id=\"b62f2a8a-2279-4306-857b-6a2ed6a5fffd\" type=\"checkbox\" ><label class=\"sk-toggleable__label\" for=\"b62f2a8a-2279-4306-857b-6a2ed6a5fffd\">numeric_features</label><div class=\"sk-toggleable__content\"><pre>['Ws_avg', 'Cosphi_avg', 'Rm_avg', 'Rs_avg']</pre></div></div></div><div class=\"sk-serial\"><div class=\"sk-item\"><div class=\"sk-serial\"><div class=\"sk-item\"><div class=\"sk-estimator sk-toggleable\"><input class=\"sk-toggleable__control sk-hidden--visually\" id=\"ab3e34fd-1d5b-4055-a7fb-6c8625d6958d\" type=\"checkbox\" ><label class=\"sk-toggleable__label\" for=\"ab3e34fd-1d5b-4055-a7fb-6c8625d6958d\">SimpleImputer</label><div class=\"sk-toggleable__content\"><pre>SimpleImputer(strategy='median')</pre></div></div></div><div class=\"sk-item\"><div class=\"sk-estimator sk-toggleable\"><input class=\"sk-toggleable__control sk-hidden--visually\" id=\"340d7be4-cdc5-4255-beeb-5f43a22b894f\" type=\"checkbox\" ><label class=\"sk-toggleable__label\" for=\"340d7be4-cdc5-4255-beeb-5f43a22b894f\">StandardScaler</label><div class=\"sk-toggleable__content\"><pre>StandardScaler()</pre></div></div></div></div></div></div></div></div></div></div></div></div>"
      ],
      "text/plain": [
       "ColumnTransformer(transformers=[('numeric_features',\n",
       "                                 Pipeline(steps=[('impute',\n",
       "                                                  SimpleImputer(strategy='median')),\n",
       "                                                 ('scale', StandardScaler())]),\n",
       "                                 ['Ws_avg', 'Cosphi_avg', 'Rm_avg', 'Rs_avg'])])"
      ]
     },
     "execution_count": 160,
     "metadata": {},
     "output_type": "execute_result"
    }
   ],
   "source": [
    "preprocess_pipeline = ColumnTransformer([\n",
    "    ('numeric_features', numeric_transformer, numerical_features),\n",
    "    #('categorical_features', categorical_transformer, categorical_features),\n",
    "    ])\n",
    "preprocess_pipeline"
   ]
  },
  {
   "cell_type": "code",
   "execution_count": 161,
   "metadata": {},
   "outputs": [
    {
     "data": {
      "text/plain": [
       "array([[-1.95966719,  0.24546531, -0.89709145, -1.8049172 ],\n",
       "       [-0.21726929, -0.08100927, -0.235217  ,  0.16855262],\n",
       "       [-0.1463794 , -0.08100927, -0.29559852,  0.12784427],\n",
       "       ...,\n",
       "       [ 1.81988124, -0.08100959,  2.26223287,  1.17210185],\n",
       "       [ 1.51020451,  0.24546531,  1.92534159,  1.17033192],\n",
       "       [ 1.60348063,  0.24546531,  1.99355584,  1.17033192]])"
      ]
     },
     "execution_count": 161,
     "metadata": {},
     "output_type": "execute_result"
    }
   ],
   "source": [
    "X_processed = preprocess_pipeline.fit_transform(X_3)"
   ]
  },
  {
   "cell_type": "markdown",
   "metadata": {},
   "source": [
    "## Ridge regression"
   ]
  },
  {
   "cell_type": "markdown",
   "metadata": {},
   "source": [
    "### Entraînement du modèle"
   ]
  },
  {
   "cell_type": "code",
   "execution_count": 60,
   "metadata": {},
   "outputs": [],
   "source": [
    "X_3 = pd.DataFrame(X_processed, columns =['Ws_avg', 'Cosphi_avg', 'Rm_avg', 'Rs_avg'])"
   ]
  },
  {
   "cell_type": "code",
   "execution_count": 61,
   "metadata": {},
   "outputs": [
    {
     "data": {
      "text/plain": [
       "Ws_avg        0\n",
       "Cosphi_avg    0\n",
       "Rm_avg        0\n",
       "Rs_avg        0\n",
       "dtype: int64"
      ]
     },
     "execution_count": 61,
     "metadata": {},
     "output_type": "execute_result"
    }
   ],
   "source": [
    "X_3.isnull().sum()"
   ]
  },
  {
   "cell_type": "code",
   "execution_count": 51,
   "metadata": {},
   "outputs": [],
   "source": [
    "X_3_train, X_3_test, y_3_train, y_3_test = train_test_split(X_3, y_3, test_size = 0.2, random_state = 5)"
   ]
  },
  {
   "cell_type": "code",
   "execution_count": 105,
   "metadata": {
    "collapsed": true
   },
   "outputs": [
    {
     "ename": "TypeError",
     "evalue": "All estimators should implement fit and transform, or can be 'drop' or 'passthrough' specifiers. 'Ws_avg' (type <class 'str'>) doesn't.",
     "output_type": "error",
     "traceback": [
      "\u001b[1;31m---------------------------------------------------------------------------\u001b[0m",
      "\u001b[1;31mTypeError\u001b[0m                                 Traceback (most recent call last)",
      "\u001b[1;32m<ipython-input-105-29dc28901a33>\u001b[0m in \u001b[0;36m<module>\u001b[1;34m\u001b[0m\n\u001b[0;32m      2\u001b[0m \u001b[1;33m\u001b[0m\u001b[0m\n\u001b[0;32m      3\u001b[0m \u001b[0mred_reg\u001b[0m \u001b[1;33m=\u001b[0m \u001b[0mmake_pipeline\u001b[0m\u001b[1;33m(\u001b[0m\u001b[0mpreprocessing\u001b[0m\u001b[1;33m,\u001b[0m \u001b[0mRidge\u001b[0m\u001b[1;33m(\u001b[0m\u001b[0malpha\u001b[0m\u001b[1;33m=\u001b[0m\u001b[1;36m.5\u001b[0m\u001b[1;33m)\u001b[0m\u001b[1;33m)\u001b[0m\u001b[1;33m\u001b[0m\u001b[1;33m\u001b[0m\u001b[0m\n\u001b[1;32m----> 4\u001b[1;33m \u001b[0mred_reg\u001b[0m\u001b[1;33m.\u001b[0m\u001b[0mfit\u001b[0m\u001b[1;33m(\u001b[0m\u001b[0mX_train\u001b[0m\u001b[1;33m,\u001b[0m \u001b[0my_train\u001b[0m\u001b[1;33m)\u001b[0m\u001b[1;33m\u001b[0m\u001b[1;33m\u001b[0m\u001b[0m\n\u001b[0m",
      "\u001b[1;32m~\\anaconda3\\lib\\site-packages\\sklearn\\pipeline.py\u001b[0m in \u001b[0;36mfit\u001b[1;34m(self, X, y, **fit_params)\u001b[0m\n\u001b[0;32m    328\u001b[0m         \"\"\"\n\u001b[0;32m    329\u001b[0m         \u001b[0mfit_params_steps\u001b[0m \u001b[1;33m=\u001b[0m \u001b[0mself\u001b[0m\u001b[1;33m.\u001b[0m\u001b[0m_check_fit_params\u001b[0m\u001b[1;33m(\u001b[0m\u001b[1;33m**\u001b[0m\u001b[0mfit_params\u001b[0m\u001b[1;33m)\u001b[0m\u001b[1;33m\u001b[0m\u001b[1;33m\u001b[0m\u001b[0m\n\u001b[1;32m--> 330\u001b[1;33m         \u001b[0mXt\u001b[0m \u001b[1;33m=\u001b[0m \u001b[0mself\u001b[0m\u001b[1;33m.\u001b[0m\u001b[0m_fit\u001b[0m\u001b[1;33m(\u001b[0m\u001b[0mX\u001b[0m\u001b[1;33m,\u001b[0m \u001b[0my\u001b[0m\u001b[1;33m,\u001b[0m \u001b[1;33m**\u001b[0m\u001b[0mfit_params_steps\u001b[0m\u001b[1;33m)\u001b[0m\u001b[1;33m\u001b[0m\u001b[1;33m\u001b[0m\u001b[0m\n\u001b[0m\u001b[0;32m    331\u001b[0m         with _print_elapsed_time('Pipeline',\n\u001b[0;32m    332\u001b[0m                                  self._log_message(len(self.steps) - 1)):\n",
      "\u001b[1;32m~\\anaconda3\\lib\\site-packages\\sklearn\\pipeline.py\u001b[0m in \u001b[0;36m_fit\u001b[1;34m(self, X, y, **fit_params_steps)\u001b[0m\n\u001b[0;32m    290\u001b[0m                 \u001b[0mcloned_transformer\u001b[0m \u001b[1;33m=\u001b[0m \u001b[0mclone\u001b[0m\u001b[1;33m(\u001b[0m\u001b[0mtransformer\u001b[0m\u001b[1;33m)\u001b[0m\u001b[1;33m\u001b[0m\u001b[1;33m\u001b[0m\u001b[0m\n\u001b[0;32m    291\u001b[0m             \u001b[1;31m# Fit or load from cache the current transformer\u001b[0m\u001b[1;33m\u001b[0m\u001b[1;33m\u001b[0m\u001b[1;33m\u001b[0m\u001b[0m\n\u001b[1;32m--> 292\u001b[1;33m             X, fitted_transformer = fit_transform_one_cached(\n\u001b[0m\u001b[0;32m    293\u001b[0m                 \u001b[0mcloned_transformer\u001b[0m\u001b[1;33m,\u001b[0m \u001b[0mX\u001b[0m\u001b[1;33m,\u001b[0m \u001b[0my\u001b[0m\u001b[1;33m,\u001b[0m \u001b[1;32mNone\u001b[0m\u001b[1;33m,\u001b[0m\u001b[1;33m\u001b[0m\u001b[1;33m\u001b[0m\u001b[0m\n\u001b[0;32m    294\u001b[0m                 \u001b[0mmessage_clsname\u001b[0m\u001b[1;33m=\u001b[0m\u001b[1;34m'Pipeline'\u001b[0m\u001b[1;33m,\u001b[0m\u001b[1;33m\u001b[0m\u001b[1;33m\u001b[0m\u001b[0m\n",
      "\u001b[1;32m~\\anaconda3\\lib\\site-packages\\joblib\\memory.py\u001b[0m in \u001b[0;36m__call__\u001b[1;34m(self, *args, **kwargs)\u001b[0m\n\u001b[0;32m    350\u001b[0m \u001b[1;33m\u001b[0m\u001b[0m\n\u001b[0;32m    351\u001b[0m     \u001b[1;32mdef\u001b[0m \u001b[0m__call__\u001b[0m\u001b[1;33m(\u001b[0m\u001b[0mself\u001b[0m\u001b[1;33m,\u001b[0m \u001b[1;33m*\u001b[0m\u001b[0margs\u001b[0m\u001b[1;33m,\u001b[0m \u001b[1;33m**\u001b[0m\u001b[0mkwargs\u001b[0m\u001b[1;33m)\u001b[0m\u001b[1;33m:\u001b[0m\u001b[1;33m\u001b[0m\u001b[1;33m\u001b[0m\u001b[0m\n\u001b[1;32m--> 352\u001b[1;33m         \u001b[1;32mreturn\u001b[0m \u001b[0mself\u001b[0m\u001b[1;33m.\u001b[0m\u001b[0mfunc\u001b[0m\u001b[1;33m(\u001b[0m\u001b[1;33m*\u001b[0m\u001b[0margs\u001b[0m\u001b[1;33m,\u001b[0m \u001b[1;33m**\u001b[0m\u001b[0mkwargs\u001b[0m\u001b[1;33m)\u001b[0m\u001b[1;33m\u001b[0m\u001b[1;33m\u001b[0m\u001b[0m\n\u001b[0m\u001b[0;32m    353\u001b[0m \u001b[1;33m\u001b[0m\u001b[0m\n\u001b[0;32m    354\u001b[0m     \u001b[1;32mdef\u001b[0m \u001b[0mcall_and_shelve\u001b[0m\u001b[1;33m(\u001b[0m\u001b[0mself\u001b[0m\u001b[1;33m,\u001b[0m \u001b[1;33m*\u001b[0m\u001b[0margs\u001b[0m\u001b[1;33m,\u001b[0m \u001b[1;33m**\u001b[0m\u001b[0mkwargs\u001b[0m\u001b[1;33m)\u001b[0m\u001b[1;33m:\u001b[0m\u001b[1;33m\u001b[0m\u001b[1;33m\u001b[0m\u001b[0m\n",
      "\u001b[1;32m~\\anaconda3\\lib\\site-packages\\sklearn\\pipeline.py\u001b[0m in \u001b[0;36m_fit_transform_one\u001b[1;34m(transformer, X, y, weight, message_clsname, message, **fit_params)\u001b[0m\n\u001b[0;32m    738\u001b[0m     \u001b[1;32mwith\u001b[0m \u001b[0m_print_elapsed_time\u001b[0m\u001b[1;33m(\u001b[0m\u001b[0mmessage_clsname\u001b[0m\u001b[1;33m,\u001b[0m \u001b[0mmessage\u001b[0m\u001b[1;33m)\u001b[0m\u001b[1;33m:\u001b[0m\u001b[1;33m\u001b[0m\u001b[1;33m\u001b[0m\u001b[0m\n\u001b[0;32m    739\u001b[0m         \u001b[1;32mif\u001b[0m \u001b[0mhasattr\u001b[0m\u001b[1;33m(\u001b[0m\u001b[0mtransformer\u001b[0m\u001b[1;33m,\u001b[0m \u001b[1;34m'fit_transform'\u001b[0m\u001b[1;33m)\u001b[0m\u001b[1;33m:\u001b[0m\u001b[1;33m\u001b[0m\u001b[1;33m\u001b[0m\u001b[0m\n\u001b[1;32m--> 740\u001b[1;33m             \u001b[0mres\u001b[0m \u001b[1;33m=\u001b[0m \u001b[0mtransformer\u001b[0m\u001b[1;33m.\u001b[0m\u001b[0mfit_transform\u001b[0m\u001b[1;33m(\u001b[0m\u001b[0mX\u001b[0m\u001b[1;33m,\u001b[0m \u001b[0my\u001b[0m\u001b[1;33m,\u001b[0m \u001b[1;33m**\u001b[0m\u001b[0mfit_params\u001b[0m\u001b[1;33m)\u001b[0m\u001b[1;33m\u001b[0m\u001b[1;33m\u001b[0m\u001b[0m\n\u001b[0m\u001b[0;32m    741\u001b[0m         \u001b[1;32melse\u001b[0m\u001b[1;33m:\u001b[0m\u001b[1;33m\u001b[0m\u001b[1;33m\u001b[0m\u001b[0m\n\u001b[0;32m    742\u001b[0m             \u001b[0mres\u001b[0m \u001b[1;33m=\u001b[0m \u001b[0mtransformer\u001b[0m\u001b[1;33m.\u001b[0m\u001b[0mfit\u001b[0m\u001b[1;33m(\u001b[0m\u001b[0mX\u001b[0m\u001b[1;33m,\u001b[0m \u001b[0my\u001b[0m\u001b[1;33m,\u001b[0m \u001b[1;33m**\u001b[0m\u001b[0mfit_params\u001b[0m\u001b[1;33m)\u001b[0m\u001b[1;33m.\u001b[0m\u001b[0mtransform\u001b[0m\u001b[1;33m(\u001b[0m\u001b[0mX\u001b[0m\u001b[1;33m)\u001b[0m\u001b[1;33m\u001b[0m\u001b[1;33m\u001b[0m\u001b[0m\n",
      "\u001b[1;32m~\\anaconda3\\lib\\site-packages\\sklearn\\compose\\_column_transformer.py\u001b[0m in \u001b[0;36mfit_transform\u001b[1;34m(self, X, y)\u001b[0m\n\u001b[0;32m    525\u001b[0m         \u001b[1;31m# set n_features_in_ attribute\u001b[0m\u001b[1;33m\u001b[0m\u001b[1;33m\u001b[0m\u001b[1;33m\u001b[0m\u001b[0m\n\u001b[0;32m    526\u001b[0m         \u001b[0mself\u001b[0m\u001b[1;33m.\u001b[0m\u001b[0m_check_n_features\u001b[0m\u001b[1;33m(\u001b[0m\u001b[0mX\u001b[0m\u001b[1;33m,\u001b[0m \u001b[0mreset\u001b[0m\u001b[1;33m=\u001b[0m\u001b[1;32mTrue\u001b[0m\u001b[1;33m)\u001b[0m\u001b[1;33m\u001b[0m\u001b[1;33m\u001b[0m\u001b[0m\n\u001b[1;32m--> 527\u001b[1;33m         \u001b[0mself\u001b[0m\u001b[1;33m.\u001b[0m\u001b[0m_validate_transformers\u001b[0m\u001b[1;33m(\u001b[0m\u001b[1;33m)\u001b[0m\u001b[1;33m\u001b[0m\u001b[1;33m\u001b[0m\u001b[0m\n\u001b[0m\u001b[0;32m    528\u001b[0m         \u001b[0mself\u001b[0m\u001b[1;33m.\u001b[0m\u001b[0m_validate_column_callables\u001b[0m\u001b[1;33m(\u001b[0m\u001b[0mX\u001b[0m\u001b[1;33m)\u001b[0m\u001b[1;33m\u001b[0m\u001b[1;33m\u001b[0m\u001b[0m\n\u001b[0;32m    529\u001b[0m         \u001b[0mself\u001b[0m\u001b[1;33m.\u001b[0m\u001b[0m_validate_remainder\u001b[0m\u001b[1;33m(\u001b[0m\u001b[0mX\u001b[0m\u001b[1;33m)\u001b[0m\u001b[1;33m\u001b[0m\u001b[1;33m\u001b[0m\u001b[0m\n",
      "\u001b[1;32m~\\anaconda3\\lib\\site-packages\\sklearn\\compose\\_column_transformer.py\u001b[0m in \u001b[0;36m_validate_transformers\u001b[1;34m(self)\u001b[0m\n\u001b[0;32m    285\u001b[0m             if (not (hasattr(t, \"fit\") or hasattr(t, \"fit_transform\")) or not\n\u001b[0;32m    286\u001b[0m                     hasattr(t, \"transform\")):\n\u001b[1;32m--> 287\u001b[1;33m                 raise TypeError(\"All estimators should implement fit and \"\n\u001b[0m\u001b[0;32m    288\u001b[0m                                 \u001b[1;34m\"transform, or can be 'drop' or 'passthrough' \"\u001b[0m\u001b[1;33m\u001b[0m\u001b[1;33m\u001b[0m\u001b[0m\n\u001b[0;32m    289\u001b[0m                                 \u001b[1;34m\"specifiers. '%s' (type %s) doesn't.\"\u001b[0m \u001b[1;33m%\u001b[0m\u001b[1;33m\u001b[0m\u001b[1;33m\u001b[0m\u001b[0m\n",
      "\u001b[1;31mTypeError\u001b[0m: All estimators should implement fit and transform, or can be 'drop' or 'passthrough' specifiers. 'Ws_avg' (type <class 'str'>) doesn't."
     ]
    }
   ],
   "source": [
    "from sklearn.linear_model import Ridge\n",
    "\n",
    "red_reg = make_pipeline(preprocessing, Ridge(alpha=.5))\n",
    "red_reg.fit(X_train, y_train)"
   ]
  },
  {
   "cell_type": "code",
   "execution_count": null,
   "metadata": {},
   "outputs": [],
   "source": [
    "cv_r2 = cross_val_score(red_reg, X_3_train, y_3_train, cv = 10)\n",
    "y_preds = red_reg.predict(X_3_test)"
   ]
  },
  {
   "cell_type": "code",
   "execution_count": null,
   "metadata": {},
   "outputs": [],
   "source": [
    "def model_evaluate(y_true, y_pred):\n",
    "    r2 = r2_score(y_true, y_pred)\n",
    "    mae = mean_absolute_error(y_true, y_pred)\n",
    "    return r2, mae"
   ]
  },
  {
   "cell_type": "code",
   "execution_count": null,
   "metadata": {},
   "outputs": [],
   "source": [
    "cv_r2 = np.mean(cv_r2)\n",
    "print(\"Cross val score: \" + str(cv_r2))\n",
    "r2, mae = model_evaluate(y_3_test, y_preds)\n",
    "print(\"R^2 score: \" + str(r2))\n",
    "print(\"Mean Absolute Erro: \" + str(mae))"
   ]
  },
  {
   "cell_type": "markdown",
   "metadata": {},
   "source": [
    "### Optimisation du modèle"
   ]
  },
  {
   "cell_type": "code",
   "execution_count": null,
   "metadata": {},
   "outputs": [],
   "source": [
    "# find optimal alpha with grid search\n",
    "alpha = [0.001, 0.01, 0.1, 1, 10, 100, 1000]\n",
    "param_grid = dict(alpha=alpha)\n",
    "grid = GridSearchCV(estimator=red_reg, param_grid=param_grid, scoring='r2', verbose=1, n_jobs=-1)\n",
    "grid_result = grid.fit(X_3_train, y_3_train)\n",
    "print('Best Score: ', grid_result.best_score_)\n",
    "print('Best Params: ', grid_result.best_params_)"
   ]
  },
  {
   "cell_type": "code",
   "execution_count": null,
   "metadata": {},
   "outputs": [],
   "source": []
  },
  {
   "cell_type": "markdown",
   "metadata": {},
   "source": [
    "# Troisième itération"
   ]
  },
  {
   "cell_type": "markdown",
   "metadata": {},
   "source": [
    "## Data structure"
   ]
  },
  {
   "cell_type": "markdown",
   "metadata": {},
   "source": [
    "### Target"
   ]
  },
  {
   "cell_type": "code",
   "execution_count": null,
   "metadata": {},
   "outputs": [],
   "source": [
    "fig, ax = plt.subplots()\n",
    "fig.set_size_inches(15, 4)\n",
    "\n",
    "sns.histplot(data=data, x=\"P_avg\", bins=120, kde=True)"
   ]
  },
  {
   "cell_type": "markdown",
   "metadata": {},
   "source": [
    "La fréquence importance de valeurs à 0 en termes d'énergie produite indique que l'éolienne est à l'arrêt. \n",
    "\n",
    "Cela peut s'expliquer par plusieurs hypothèses, parmi lesquelles on distingue : \n",
    "- l'éolienne est en maintenance\n",
    "- il n'y a pas assez ou trop de vent pour qu'elle puisse tourner (14kh/h < vitesse > 90 km/h) \n",
    "- vérifier le stockage\n",
    "\n",
    "La distribution anormale de notre target ne pose pas particulièrement problème. Il faudra envisager de la logarithmer au besoin. "
   ]
  },
  {
   "cell_type": "code",
   "execution_count": null,
   "metadata": {},
   "outputs": [],
   "source": [
    "fig, ax = plt.subplots()\n",
    "fig.set_size_inches(15, 4)\n",
    "\n",
    "sns.histplot(data=data, x=\"Ws_avg\", bins=120, kde=True)"
   ]
  },
  {
   "cell_type": "markdown",
   "metadata": {},
   "source": [
    "Sommes nous en présence d'une polynomiale feature ? "
   ]
  },
  {
   "cell_type": "code",
   "execution_count": null,
   "metadata": {},
   "outputs": [],
   "source": [
    "# Cette feature est en mètre par seconde => à convertir pour que cela nous parle plus\n",
    "\n",
    "data['Ws_avg'].describe()"
   ]
  },
  {
   "cell_type": "code",
   "execution_count": null,
   "metadata": {},
   "outputs": [],
   "source": [
    "data['P_avg'].describe()"
   ]
  },
  {
   "cell_type": "code",
   "execution_count": 92,
   "metadata": {},
   "outputs": [
    {
     "data": {
      "text/plain": [
       "<AxesSubplot:xlabel='Ws_avg', ylabel='P_avg'>"
      ]
     },
     "execution_count": 92,
     "metadata": {},
     "output_type": "execute_result"
    },
    {
     "data": {
      "image/png": "[encoded data removed]",
      "text/plain": [
       "<Figure size 432x288 with 1 Axes>"
      ]
     },
     "metadata": {
      "needs_background": "light"
     },
     "output_type": "display_data"
    }
   ],
   "source": [
    "# Nous sommes en millisecondes\n",
    "\n",
    "sns.scatterplot(data=data, x='Ws_avg', y='P_avg')"
   ]
  },
  {
   "cell_type": "markdown",
   "metadata": {},
   "source": [
    "Sur l'intégralité du dataset (sans le nettoyage préalable), nous constatons qu'un bout de notre donnée a été retiré. "
   ]
  },
  {
   "cell_type": "code",
   "execution_count": 95,
   "metadata": {},
   "outputs": [
    {
     "data": {
      "text/plain": [
       "<AxesSubplot:xlabel='Ws_avg', ylabel='P_avg'>"
      ]
     },
     "execution_count": 95,
     "metadata": {},
     "output_type": "execute_result"
    },
    {
     "data": {
      "image/png": "[encoded data removed]",
      "text/plain": [
       "<Figure size 432x288 with 1 Axes>"
      ]
     },
     "metadata": {
      "needs_background": "light"
     },
     "output_type": "display_data"
    }
   ],
   "source": [
    "sns.scatterplot(data=df, x='Ws_avg', y='P_avg', hue='Wind_turbine_name')"
   ]
  },
  {
   "cell_type": "markdown",
   "metadata": {},
   "source": [
    "Comprendre pourquoi quand j'ai du vent supérieur à 10, soit la puissance est au max, soit elle est au plus bas. \n",
    "Piste : obsolescence du matériel => essayer de comprendre les petits points intermédiaires. Faire avec une datetime pour comprendre ce phénomène. Problème de batterie. \n",
    "\n",
    "Note perso : vu que nous voulons généraliser notre modèle, il conviendrait peut-être de \"supprimer\" les valeurs qui seraient considérées comme aberrantes si la piste de l'obsolescence était retenue."
   ]
  },
  {
   "cell_type": "code",
   "execution_count": null,
   "metadata": {},
   "outputs": [],
   "source": [
    "sns.regplot(data=df, x='Ws_avg', y='P_avg')"
   ]
  },
  {
   "cell_type": "markdown",
   "metadata": {},
   "source": [
    "Nous avons tout de même une corrélation positive."
   ]
  },
  {
   "cell_type": "markdown",
   "metadata": {},
   "source": [
    "# Feature engineering "
   ]
  },
  {
   "cell_type": "code",
   "execution_count": null,
   "metadata": {},
   "outputs": [],
   "source": [
    "# Conversion des de la feature vitesse qui est en mètres/secondes, en km/h. \n",
    "\n",
    "data[\"Speed km/h\"] = data[\"Ws_avg\"] / 1000\n",
    "data[\"Speed km/h\"] = data[\"Speed km/h\"] * 3600"
   ]
  }
 ],
 "metadata": {
  "kernelspec": {
   "display_name": "Python 3",
   "language": "python",
   "name": "python3"
  },
  "language_info": {
   "codemirror_mode": {
    "name": "ipython",
    "version": 3
   },
   "file_extension": ".py",
   "mimetype": "text/x-python",
   "name": "python",
   "nbconvert_exporter": "python",
   "pygments_lexer": "ipython3",
   "version": "3.8.5"
  },
  "latex_envs": {
   "LaTeX_envs_menu_present": true,
   "autoclose": false,
   "autocomplete": true,
   "bibliofile": "biblio.bib",
   "cite_by": "apalike",
   "current_citInitial": 1,
   "eqLabelWithNumbers": true,
   "eqNumInitial": 1,
   "hotkeys": {
    "equation": "Ctrl-E",
    "itemize": "Ctrl-I"
   },
   "labels_anchors": false,
   "latex_user_defs": false,
   "report_style_numbering": false,
   "user_envs_cfg": false
  },
  "toc": {
   "base_numbering": 1,
   "nav_menu": {},
   "number_sections": true,
   "sideBar": true,
   "skip_h1_title": false,
   "title_cell": "Table of Contents",
   "title_sidebar": "Contents",
   "toc_cell": false,
   "toc_position": {
    "height": "calc(100% - 180px)",
    "left": "10px",
    "top": "150px",
    "width": "310.417px"
   },
   "toc_section_display": true,
   "toc_window_display": true
  },
  "varInspector": {
   "cols": {
    "lenName": 16,
    "lenType": 16,
    "lenVar": 40
   },
   "kernels_config": {
    "python": {
     "delete_cmd_postfix": "",
     "delete_cmd_prefix": "del ",
     "library": "var_list.py",
     "varRefreshCmd": "print(var_dic_list())"
    },
    "r": {
     "delete_cmd_postfix": ") ",
     "delete_cmd_prefix": "rm(",
     "library": "var_list.r",
     "varRefreshCmd": "cat(var_dic_list()) "
    }
   },
   "types_to_exclude": [
    "module",
    "function",
    "builtin_function_or_method",
    "instance",
    "_Feature"
   ],
   "window_display": false
  }
 },
 "nbformat": 4,
 "nbformat_minor": 4
}
